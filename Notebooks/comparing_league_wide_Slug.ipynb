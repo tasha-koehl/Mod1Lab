{
 "cells": [
  {
   "cell_type": "code",
   "execution_count": 11,
   "id": "8c8ff4d2-e96a-4878-a0b8-87c4b4328b6d",
   "metadata": {},
   "outputs": [],
   "source": [
    "import polars as pl\n",
    "import plotnine as pn"
   ]
  },
  {
   "cell_type": "code",
   "execution_count": 13,
   "id": "8b265bc3-1830-4975-9451-bde330b79ce1",
   "metadata": {},
   "outputs": [
    {
     "data": {
      "text/html": [
       "<div><style>\n",
       ".dataframe > thead > tr,\n",
       ".dataframe > tbody > tr {\n",
       "  text-align: right;\n",
       "  white-space: pre-wrap;\n",
       "}\n",
       "</style>\n",
       "<small>shape: (113_799, 24)</small><table border=\"1\" class=\"dataframe\"><thead><tr><th>playerID</th><th>yearID</th><th>stint</th><th>teamID</th><th>lgID</th><th>G</th><th>G_batting</th><th>AB</th><th>R</th><th>H</th><th>2B</th><th>3B</th><th>HR</th><th>RBI</th><th>SB</th><th>CS</th><th>BB</th><th>SO</th><th>IBB</th><th>HBP</th><th>SH</th><th>SF</th><th>GIDP</th><th>G_old</th></tr><tr><td>str</td><td>i64</td><td>i64</td><td>str</td><td>str</td><td>i64</td><td>i64</td><td>i64</td><td>i64</td><td>i64</td><td>i64</td><td>i64</td><td>i64</td><td>i64</td><td>i64</td><td>i64</td><td>i64</td><td>i64</td><td>i64</td><td>i64</td><td>i64</td><td>i64</td><td>i64</td><td>str</td></tr></thead><tbody><tr><td>&quot;aardsda01&quot;</td><td>2004</td><td>1</td><td>&quot;SFN&quot;</td><td>&quot;NL&quot;</td><td>11</td><td>null</td><td>0</td><td>0</td><td>0</td><td>0</td><td>0</td><td>0</td><td>0</td><td>0</td><td>0</td><td>0</td><td>0</td><td>0</td><td>0</td><td>0</td><td>0</td><td>0</td><td>null</td></tr><tr><td>&quot;aardsda01&quot;</td><td>2006</td><td>1</td><td>&quot;CHN&quot;</td><td>&quot;NL&quot;</td><td>45</td><td>null</td><td>2</td><td>0</td><td>0</td><td>0</td><td>0</td><td>0</td><td>0</td><td>0</td><td>0</td><td>0</td><td>0</td><td>0</td><td>0</td><td>1</td><td>0</td><td>0</td><td>null</td></tr><tr><td>&quot;aardsda01&quot;</td><td>2007</td><td>1</td><td>&quot;CHA&quot;</td><td>&quot;AL&quot;</td><td>25</td><td>null</td><td>0</td><td>0</td><td>0</td><td>0</td><td>0</td><td>0</td><td>0</td><td>0</td><td>0</td><td>0</td><td>0</td><td>0</td><td>0</td><td>0</td><td>0</td><td>0</td><td>null</td></tr><tr><td>&quot;aardsda01&quot;</td><td>2008</td><td>1</td><td>&quot;BOS&quot;</td><td>&quot;AL&quot;</td><td>47</td><td>null</td><td>1</td><td>0</td><td>0</td><td>0</td><td>0</td><td>0</td><td>0</td><td>0</td><td>0</td><td>0</td><td>1</td><td>0</td><td>0</td><td>0</td><td>0</td><td>0</td><td>null</td></tr><tr><td>&quot;aardsda01&quot;</td><td>2009</td><td>1</td><td>&quot;SEA&quot;</td><td>&quot;AL&quot;</td><td>73</td><td>null</td><td>0</td><td>0</td><td>0</td><td>0</td><td>0</td><td>0</td><td>0</td><td>0</td><td>0</td><td>0</td><td>0</td><td>0</td><td>0</td><td>0</td><td>0</td><td>0</td><td>null</td></tr><tr><td>&hellip;</td><td>&hellip;</td><td>&hellip;</td><td>&hellip;</td><td>&hellip;</td><td>&hellip;</td><td>&hellip;</td><td>&hellip;</td><td>&hellip;</td><td>&hellip;</td><td>&hellip;</td><td>&hellip;</td><td>&hellip;</td><td>&hellip;</td><td>&hellip;</td><td>&hellip;</td><td>&hellip;</td><td>&hellip;</td><td>&hellip;</td><td>&hellip;</td><td>&hellip;</td><td>&hellip;</td><td>&hellip;</td><td>&hellip;</td></tr><tr><td>&quot;zwilldu01&quot;</td><td>1915</td><td>1</td><td>&quot;CHF&quot;</td><td>&quot;FL&quot;</td><td>150</td><td>null</td><td>548</td><td>65</td><td>157</td><td>32</td><td>7</td><td>13</td><td>94</td><td>24</td><td>null</td><td>67</td><td>65</td><td>null</td><td>2</td><td>18</td><td>null</td><td>null</td><td>null</td></tr><tr><td>&quot;zwilldu01&quot;</td><td>1916</td><td>1</td><td>&quot;CHN&quot;</td><td>&quot;NL&quot;</td><td>35</td><td>null</td><td>53</td><td>4</td><td>6</td><td>1</td><td>0</td><td>1</td><td>8</td><td>0</td><td>null</td><td>4</td><td>6</td><td>null</td><td>0</td><td>2</td><td>null</td><td>null</td><td>null</td></tr><tr><td>&quot;zychto01&quot;</td><td>2015</td><td>1</td><td>&quot;SEA&quot;</td><td>&quot;AL&quot;</td><td>13</td><td>null</td><td>0</td><td>0</td><td>0</td><td>0</td><td>0</td><td>0</td><td>0</td><td>0</td><td>0</td><td>0</td><td>0</td><td>0</td><td>0</td><td>0</td><td>0</td><td>0</td><td>null</td></tr><tr><td>&quot;zychto01&quot;</td><td>2016</td><td>1</td><td>&quot;SEA&quot;</td><td>&quot;AL&quot;</td><td>12</td><td>null</td><td>0</td><td>0</td><td>0</td><td>0</td><td>0</td><td>0</td><td>0</td><td>0</td><td>0</td><td>0</td><td>0</td><td>0</td><td>0</td><td>0</td><td>0</td><td>0</td><td>null</td></tr><tr><td>&quot;zychto01&quot;</td><td>2017</td><td>1</td><td>&quot;SEA&quot;</td><td>&quot;AL&quot;</td><td>45</td><td>null</td><td>0</td><td>0</td><td>0</td><td>0</td><td>0</td><td>0</td><td>0</td><td>0</td><td>0</td><td>0</td><td>0</td><td>0</td><td>0</td><td>0</td><td>0</td><td>0</td><td>null</td></tr></tbody></table></div>"
      ],
      "text/plain": [
       "shape: (113_799, 24)\n",
       "┌───────────┬────────┬───────┬────────┬───┬─────┬──────┬──────┬───────┐\n",
       "│ playerID  ┆ yearID ┆ stint ┆ teamID ┆ … ┆ SH  ┆ SF   ┆ GIDP ┆ G_old │\n",
       "│ ---       ┆ ---    ┆ ---   ┆ ---    ┆   ┆ --- ┆ ---  ┆ ---  ┆ ---   │\n",
       "│ str       ┆ i64    ┆ i64   ┆ str    ┆   ┆ i64 ┆ i64  ┆ i64  ┆ str   │\n",
       "╞═══════════╪════════╪═══════╪════════╪═══╪═════╪══════╪══════╪═══════╡\n",
       "│ aardsda01 ┆ 2004   ┆ 1     ┆ SFN    ┆ … ┆ 0   ┆ 0    ┆ 0    ┆ null  │\n",
       "│ aardsda01 ┆ 2006   ┆ 1     ┆ CHN    ┆ … ┆ 1   ┆ 0    ┆ 0    ┆ null  │\n",
       "│ aardsda01 ┆ 2007   ┆ 1     ┆ CHA    ┆ … ┆ 0   ┆ 0    ┆ 0    ┆ null  │\n",
       "│ aardsda01 ┆ 2008   ┆ 1     ┆ BOS    ┆ … ┆ 0   ┆ 0    ┆ 0    ┆ null  │\n",
       "│ aardsda01 ┆ 2009   ┆ 1     ┆ SEA    ┆ … ┆ 0   ┆ 0    ┆ 0    ┆ null  │\n",
       "│ …         ┆ …      ┆ …     ┆ …      ┆ … ┆ …   ┆ …    ┆ …    ┆ …     │\n",
       "│ zwilldu01 ┆ 1915   ┆ 1     ┆ CHF    ┆ … ┆ 18  ┆ null ┆ null ┆ null  │\n",
       "│ zwilldu01 ┆ 1916   ┆ 1     ┆ CHN    ┆ … ┆ 2   ┆ null ┆ null ┆ null  │\n",
       "│ zychto01  ┆ 2015   ┆ 1     ┆ SEA    ┆ … ┆ 0   ┆ 0    ┆ 0    ┆ null  │\n",
       "│ zychto01  ┆ 2016   ┆ 1     ┆ SEA    ┆ … ┆ 0   ┆ 0    ┆ 0    ┆ null  │\n",
       "│ zychto01  ┆ 2017   ┆ 1     ┆ SEA    ┆ … ┆ 0   ┆ 0    ┆ 0    ┆ null  │\n",
       "└───────────┴────────┴───────┴────────┴───┴─────┴──────┴──────┴───────┘"
      ]
     },
     "execution_count": 13,
     "metadata": {},
     "output_type": "execute_result"
    }
   ],
   "source": [
    "df1 = pl.read_csv('./Data/lahman_1871-2023_csv/Batting.csv')\n",
    "df1"
   ]
  },
  {
   "cell_type": "code",
   "execution_count": 14,
   "id": "c872c0c9-3254-455d-9986-8ab38595f2e6",
   "metadata": {},
   "outputs": [
    {
     "data": {
      "text/html": [
       "<div><style>\n",
       ".dataframe > thead > tr,\n",
       ".dataframe > tbody > tr {\n",
       "  text-align: right;\n",
       "  white-space: pre-wrap;\n",
       "}\n",
       "</style>\n",
       "<small>shape: (113_799, 25)</small><table border=\"1\" class=\"dataframe\"><thead><tr><th>playerID</th><th>yearID</th><th>stint</th><th>teamID</th><th>lgID</th><th>G</th><th>G_batting</th><th>AB</th><th>R</th><th>H</th><th>2B</th><th>3B</th><th>HR</th><th>RBI</th><th>SB</th><th>CS</th><th>BB</th><th>SO</th><th>IBB</th><th>HBP</th><th>SH</th><th>SF</th><th>GIDP</th><th>G_old</th><th>1B</th></tr><tr><td>str</td><td>i64</td><td>i64</td><td>str</td><td>str</td><td>i64</td><td>i64</td><td>i64</td><td>i64</td><td>i64</td><td>i64</td><td>i64</td><td>i64</td><td>i64</td><td>i64</td><td>i64</td><td>i64</td><td>i64</td><td>i64</td><td>i64</td><td>i64</td><td>i64</td><td>i64</td><td>str</td><td>i64</td></tr></thead><tbody><tr><td>&quot;abercda01&quot;</td><td>1871</td><td>1</td><td>&quot;TRO&quot;</td><td>&quot;NA&quot;</td><td>1</td><td>null</td><td>4</td><td>0</td><td>0</td><td>0</td><td>0</td><td>0</td><td>0</td><td>0</td><td>0</td><td>0</td><td>0</td><td>null</td><td>null</td><td>null</td><td>null</td><td>0</td><td>null</td><td>0</td></tr><tr><td>&quot;addybo01&quot;</td><td>1871</td><td>1</td><td>&quot;RC1&quot;</td><td>&quot;NA&quot;</td><td>25</td><td>null</td><td>118</td><td>30</td><td>32</td><td>6</td><td>0</td><td>0</td><td>13</td><td>8</td><td>1</td><td>4</td><td>0</td><td>null</td><td>null</td><td>null</td><td>null</td><td>0</td><td>null</td><td>26</td></tr><tr><td>&quot;allisar01&quot;</td><td>1871</td><td>1</td><td>&quot;CL1&quot;</td><td>&quot;NA&quot;</td><td>29</td><td>null</td><td>137</td><td>28</td><td>40</td><td>4</td><td>5</td><td>0</td><td>19</td><td>3</td><td>1</td><td>2</td><td>5</td><td>null</td><td>null</td><td>null</td><td>null</td><td>1</td><td>null</td><td>31</td></tr><tr><td>&quot;allisdo01&quot;</td><td>1871</td><td>1</td><td>&quot;WS3&quot;</td><td>&quot;NA&quot;</td><td>27</td><td>null</td><td>133</td><td>28</td><td>44</td><td>10</td><td>2</td><td>2</td><td>27</td><td>1</td><td>1</td><td>0</td><td>2</td><td>null</td><td>null</td><td>null</td><td>null</td><td>0</td><td>null</td><td>30</td></tr><tr><td>&quot;ansonca01&quot;</td><td>1871</td><td>1</td><td>&quot;RC1&quot;</td><td>&quot;NA&quot;</td><td>25</td><td>null</td><td>120</td><td>29</td><td>39</td><td>11</td><td>3</td><td>0</td><td>16</td><td>6</td><td>2</td><td>2</td><td>1</td><td>null</td><td>null</td><td>null</td><td>null</td><td>0</td><td>null</td><td>25</td></tr><tr><td>&hellip;</td><td>&hellip;</td><td>&hellip;</td><td>&hellip;</td><td>&hellip;</td><td>&hellip;</td><td>&hellip;</td><td>&hellip;</td><td>&hellip;</td><td>&hellip;</td><td>&hellip;</td><td>&hellip;</td><td>&hellip;</td><td>&hellip;</td><td>&hellip;</td><td>&hellip;</td><td>&hellip;</td><td>&hellip;</td><td>&hellip;</td><td>&hellip;</td><td>&hellip;</td><td>&hellip;</td><td>&hellip;</td><td>&hellip;</td><td>&hellip;</td></tr><tr><td>&quot;zavalse01&quot;</td><td>2023</td><td>2</td><td>&quot;ARI&quot;</td><td>&quot;NL&quot;</td><td>7</td><td>7</td><td>14</td><td>2</td><td>5</td><td>1</td><td>0</td><td>0</td><td>2</td><td>0</td><td>0</td><td>2</td><td>2</td><td>0</td><td>1</td><td>0</td><td>0</td><td>0</td><td>null</td><td>4</td></tr><tr><td>&quot;zerpaan01&quot;</td><td>2023</td><td>1</td><td>&quot;KCA&quot;</td><td>&quot;AL&quot;</td><td>15</td><td>0</td><td>0</td><td>0</td><td>0</td><td>0</td><td>0</td><td>0</td><td>0</td><td>0</td><td>0</td><td>0</td><td>0</td><td>0</td><td>0</td><td>0</td><td>0</td><td>0</td><td>null</td><td>0</td></tr><tr><td>&quot;zimmebr02&quot;</td><td>2023</td><td>1</td><td>&quot;BAL&quot;</td><td>&quot;AL&quot;</td><td>7</td><td>0</td><td>0</td><td>0</td><td>0</td><td>0</td><td>0</td><td>0</td><td>0</td><td>0</td><td>0</td><td>0</td><td>0</td><td>0</td><td>0</td><td>0</td><td>0</td><td>0</td><td>null</td><td>0</td></tr><tr><td>&quot;zuniggu01&quot;</td><td>2023</td><td>1</td><td>&quot;SLN&quot;</td><td>&quot;NL&quot;</td><td>2</td><td>0</td><td>0</td><td>0</td><td>0</td><td>0</td><td>0</td><td>0</td><td>0</td><td>0</td><td>0</td><td>0</td><td>0</td><td>0</td><td>0</td><td>0</td><td>0</td><td>0</td><td>null</td><td>0</td></tr><tr><td>&quot;zuninmi01&quot;</td><td>2023</td><td>1</td><td>&quot;CLE&quot;</td><td>&quot;AL&quot;</td><td>42</td><td>42</td><td>124</td><td>11</td><td>22</td><td>7</td><td>0</td><td>3</td><td>11</td><td>0</td><td>0</td><td>15</td><td>61</td><td>0</td><td>1</td><td>0</td><td>0</td><td>3</td><td>null</td><td>12</td></tr></tbody></table></div>"
      ],
      "text/plain": [
       "shape: (113_799, 25)\n",
       "┌───────────┬────────┬───────┬────────┬───┬──────┬──────┬───────┬─────┐\n",
       "│ playerID  ┆ yearID ┆ stint ┆ teamID ┆ … ┆ SF   ┆ GIDP ┆ G_old ┆ 1B  │\n",
       "│ ---       ┆ ---    ┆ ---   ┆ ---    ┆   ┆ ---  ┆ ---  ┆ ---   ┆ --- │\n",
       "│ str       ┆ i64    ┆ i64   ┆ str    ┆   ┆ i64  ┆ i64  ┆ str   ┆ i64 │\n",
       "╞═══════════╪════════╪═══════╪════════╪═══╪══════╪══════╪═══════╪═════╡\n",
       "│ abercda01 ┆ 1871   ┆ 1     ┆ TRO    ┆ … ┆ null ┆ 0    ┆ null  ┆ 0   │\n",
       "│ addybo01  ┆ 1871   ┆ 1     ┆ RC1    ┆ … ┆ null ┆ 0    ┆ null  ┆ 26  │\n",
       "│ allisar01 ┆ 1871   ┆ 1     ┆ CL1    ┆ … ┆ null ┆ 1    ┆ null  ┆ 31  │\n",
       "│ allisdo01 ┆ 1871   ┆ 1     ┆ WS3    ┆ … ┆ null ┆ 0    ┆ null  ┆ 30  │\n",
       "│ ansonca01 ┆ 1871   ┆ 1     ┆ RC1    ┆ … ┆ null ┆ 0    ┆ null  ┆ 25  │\n",
       "│ …         ┆ …      ┆ …     ┆ …      ┆ … ┆ …    ┆ …    ┆ …     ┆ …   │\n",
       "│ zavalse01 ┆ 2023   ┆ 2     ┆ ARI    ┆ … ┆ 0    ┆ 0    ┆ null  ┆ 4   │\n",
       "│ zerpaan01 ┆ 2023   ┆ 1     ┆ KCA    ┆ … ┆ 0    ┆ 0    ┆ null  ┆ 0   │\n",
       "│ zimmebr02 ┆ 2023   ┆ 1     ┆ BAL    ┆ … ┆ 0    ┆ 0    ┆ null  ┆ 0   │\n",
       "│ zuniggu01 ┆ 2023   ┆ 1     ┆ SLN    ┆ … ┆ 0    ┆ 0    ┆ null  ┆ 0   │\n",
       "│ zuninmi01 ┆ 2023   ┆ 1     ┆ CLE    ┆ … ┆ 0    ┆ 3    ┆ null  ┆ 12  │\n",
       "└───────────┴────────┴───────┴────────┴───┴──────┴──────┴───────┴─────┘"
      ]
     },
     "execution_count": 14,
     "metadata": {},
     "output_type": "execute_result"
    }
   ],
   "source": [
    "df = (\n",
    "    df1\n",
    "    .with_columns([(pl.col('H') - pl.col('2B') - pl.col('3B') - pl.col('HR'))\n",
    "                     .alias(\"1B\")])\n",
    "   .sort(pl.col('yearID'))\n",
    "    )\n",
    "\n",
    "df"
   ]
  },
  {
   "cell_type": "code",
   "execution_count": 15,
   "id": "deb00c15-75d2-47f2-90de-d15a72b5453a",
   "metadata": {},
   "outputs": [
    {
     "data": {
      "text/html": [
       "<div><style>\n",
       ".dataframe > thead > tr,\n",
       ".dataframe > tbody > tr {\n",
       "  text-align: right;\n",
       "  white-space: pre-wrap;\n",
       "}\n",
       "</style>\n",
       "<small>shape: (156, 7)</small><table border=\"1\" class=\"dataframe\"><thead><tr><th>lgID</th><th>yearID</th><th>Total_Singles</th><th>Total_Doubles</th><th>Total_Triples</th><th>Total_HomeRuns</th><th>Total_AtBats</th></tr><tr><td>str</td><td>i64</td><td>i64</td><td>i64</td><td>i64</td><td>i64</td><td>i64</td></tr></thead><tbody><tr><td>&quot;AL&quot;</td><td>1970</td><td>11793</td><td>2492</td><td>373</td><td>1746</td><td>65675</td></tr><tr><td>&quot;AL&quot;</td><td>1999</td><td>14272</td><td>4121</td><td>419</td><td>2635</td><td>78126</td></tr><tr><td>&quot;AL&quot;</td><td>1948</td><td>8206</td><td>1846</td><td>450</td><td>710</td><td>42155</td></tr><tr><td>&quot;AL&quot;</td><td>1963</td><td>9654</td><td>2114</td><td>352</td><td>1489</td><td>55011</td></tr><tr><td>&quot;NL&quot;</td><td>2022</td><td>12846</td><td>3984</td><td>348</td><td>2658</td><td>81649</td></tr><tr><td>&hellip;</td><td>&hellip;</td><td>&hellip;</td><td>&hellip;</td><td>&hellip;</td><td>&hellip;</td><td>&hellip;</td></tr><tr><td>&quot;NL&quot;</td><td>1993</td><td>14370</td><td>3588</td><td>513</td><td>1956</td><td>77489</td></tr><tr><td>&quot;NL&quot;</td><td>1947</td><td>8126</td><td>1860</td><td>392</td><td>886</td><td>42434</td></tr><tr><td>&quot;AL&quot;</td><td>1974</td><td>12729</td><td>2564</td><td>400</td><td>1369</td><td>66044</td></tr><tr><td>&quot;AL&quot;</td><td>1983</td><td>14500</td><td>3710</td><td>549</td><td>1903</td><td>77821</td></tr><tr><td>&quot;NL&quot;</td><td>1994</td><td>10002</td><td>2784</td><td>377</td><td>1532</td><td>55068</td></tr></tbody></table></div>"
      ],
      "text/plain": [
       "shape: (156, 7)\n",
       "┌──────┬────────┬───────────────┬───────────────┬───────────────┬────────────────┬──────────────┐\n",
       "│ lgID ┆ yearID ┆ Total_Singles ┆ Total_Doubles ┆ Total_Triples ┆ Total_HomeRuns ┆ Total_AtBats │\n",
       "│ ---  ┆ ---    ┆ ---           ┆ ---           ┆ ---           ┆ ---            ┆ ---          │\n",
       "│ str  ┆ i64    ┆ i64           ┆ i64           ┆ i64           ┆ i64            ┆ i64          │\n",
       "╞══════╪════════╪═══════════════╪═══════════════╪═══════════════╪════════════════╪══════════════╡\n",
       "│ AL   ┆ 1970   ┆ 11793         ┆ 2492          ┆ 373           ┆ 1746           ┆ 65675        │\n",
       "│ AL   ┆ 1999   ┆ 14272         ┆ 4121          ┆ 419           ┆ 2635           ┆ 78126        │\n",
       "│ AL   ┆ 1948   ┆ 8206          ┆ 1846          ┆ 450           ┆ 710            ┆ 42155        │\n",
       "│ AL   ┆ 1963   ┆ 9654          ┆ 2114          ┆ 352           ┆ 1489           ┆ 55011        │\n",
       "│ NL   ┆ 2022   ┆ 12846         ┆ 3984          ┆ 348           ┆ 2658           ┆ 81649        │\n",
       "│ …    ┆ …      ┆ …             ┆ …             ┆ …             ┆ …              ┆ …            │\n",
       "│ NL   ┆ 1993   ┆ 14370         ┆ 3588          ┆ 513           ┆ 1956           ┆ 77489        │\n",
       "│ NL   ┆ 1947   ┆ 8126          ┆ 1860          ┆ 392           ┆ 886            ┆ 42434        │\n",
       "│ AL   ┆ 1974   ┆ 12729         ┆ 2564          ┆ 400           ┆ 1369           ┆ 66044        │\n",
       "│ AL   ┆ 1983   ┆ 14500         ┆ 3710          ┆ 549           ┆ 1903           ┆ 77821        │\n",
       "│ NL   ┆ 1994   ┆ 10002         ┆ 2784          ┆ 377           ┆ 1532           ┆ 55068        │\n",
       "└──────┴────────┴───────────────┴───────────────┴───────────────┴────────────────┴──────────────┘"
      ]
     },
     "execution_count": 15,
     "metadata": {},
     "output_type": "execute_result"
    }
   ],
   "source": [
    "df = (\n",
    "    df\n",
    "    .select(['yearID', 'lgID', '1B', '2B', '3B', 'HR', 'AB'])\n",
    "    .filter(pl.col('yearID') > 1945)\n",
    "    .filter((pl.col('lgID') == 'AL') | (pl.col('lgID') == 'NL'))\n",
    "    .group_by(['lgID', 'yearID'])\n",
    "    .agg(pl.col(\"1B\").sum().alias(\"Total_Singles\"), pl.col(\"2B\").sum().alias(\"Total_Doubles\"), pl.col(\"3B\").sum().alias(\"Total_Triples\"), pl.col(\"HR\").sum().alias(\"Total_HomeRuns\"), pl.col(\"AB\").sum().alias(\"Total_AtBats\"))\n",
    ")\n",
    "\n",
    "df"
   ]
  },
  {
   "cell_type": "code",
   "execution_count": 16,
   "id": "0b077bf8-54d7-48e8-abb2-b6a6168ca1b3",
   "metadata": {},
   "outputs": [
    {
     "data": {
      "text/html": [
       "<div><style>\n",
       ".dataframe > thead > tr,\n",
       ".dataframe > tbody > tr {\n",
       "  text-align: right;\n",
       "  white-space: pre-wrap;\n",
       "}\n",
       "</style>\n",
       "<small>shape: (156, 8)</small><table border=\"1\" class=\"dataframe\"><thead><tr><th>lgID</th><th>yearID</th><th>Total_Singles</th><th>Total_Doubles</th><th>Total_Triples</th><th>Total_HomeRuns</th><th>Total_AtBats</th><th>Slugging_Percentage</th></tr><tr><td>str</td><td>i64</td><td>i64</td><td>i64</td><td>i64</td><td>i64</td><td>i64</td><td>f64</td></tr></thead><tbody><tr><td>&quot;NL&quot;</td><td>1946</td><td>8066</td><td>1752</td><td>382</td><td>562</td><td>42094</td><td>0.35549</td></tr><tr><td>&quot;AL&quot;</td><td>1946</td><td>7912</td><td>1827</td><td>401</td><td>653</td><td>42239</td><td>0.364142</td></tr><tr><td>&quot;AL&quot;</td><td>1947</td><td>7940</td><td>1708</td><td>412</td><td>679</td><td>42002</td><td>0.364459</td></tr><tr><td>&quot;NL&quot;</td><td>1947</td><td>8126</td><td>1860</td><td>392</td><td>886</td><td>42434</td><td>0.390394</td></tr><tr><td>&quot;AL&quot;</td><td>1948</td><td>8206</td><td>1846</td><td>450</td><td>710</td><td>42155</td><td>0.381639</td></tr><tr><td>&hellip;</td><td>&hellip;</td><td>&hellip;</td><td>&hellip;</td><td>&hellip;</td><td>&hellip;</td><td>&hellip;</td><td>&hellip;</td></tr><tr><td>&quot;NL&quot;</td><td>2021</td><td>12376</td><td>3907</td><td>354</td><td>2885</td><td>80604</td><td>0.406828</td></tr><tr><td>&quot;NL&quot;</td><td>2022</td><td>12846</td><td>3984</td><td>348</td><td>2658</td><td>81649</td><td>0.397923</td></tr><tr><td>&quot;AL&quot;</td><td>2022</td><td>13031</td><td>3956</td><td>295</td><td>2557</td><td>81816</td><td>0.391806</td></tr><tr><td>&quot;NL&quot;</td><td>2023</td><td>13114</td><td>4098</td><td>370</td><td>2943</td><td>82094</td><td>0.416498</td></tr><tr><td>&quot;AL&quot;</td><td>2023</td><td>12917</td><td>4130</td><td>342</td><td>2925</td><td>82324</td><td>0.411824</td></tr></tbody></table></div>"
      ],
      "text/plain": [
       "shape: (156, 8)\n",
       "┌──────┬────────┬─────────────┬─────────────┬─────────────┬─────────────┬─────────────┬────────────┐\n",
       "│ lgID ┆ yearID ┆ Total_Singl ┆ Total_Doubl ┆ Total_Tripl ┆ Total_HomeR ┆ Total_AtBat ┆ Slugging_P │\n",
       "│ ---  ┆ ---    ┆ es          ┆ es          ┆ es          ┆ uns         ┆ s           ┆ ercentage  │\n",
       "│ str  ┆ i64    ┆ ---         ┆ ---         ┆ ---         ┆ ---         ┆ ---         ┆ ---        │\n",
       "│      ┆        ┆ i64         ┆ i64         ┆ i64         ┆ i64         ┆ i64         ┆ f64        │\n",
       "╞══════╪════════╪═════════════╪═════════════╪═════════════╪═════════════╪═════════════╪════════════╡\n",
       "│ NL   ┆ 1946   ┆ 8066        ┆ 1752        ┆ 382         ┆ 562         ┆ 42094       ┆ 0.35549    │\n",
       "│ AL   ┆ 1946   ┆ 7912        ┆ 1827        ┆ 401         ┆ 653         ┆ 42239       ┆ 0.364142   │\n",
       "│ AL   ┆ 1947   ┆ 7940        ┆ 1708        ┆ 412         ┆ 679         ┆ 42002       ┆ 0.364459   │\n",
       "│ NL   ┆ 1947   ┆ 8126        ┆ 1860        ┆ 392         ┆ 886         ┆ 42434       ┆ 0.390394   │\n",
       "│ AL   ┆ 1948   ┆ 8206        ┆ 1846        ┆ 450         ┆ 710         ┆ 42155       ┆ 0.381639   │\n",
       "│ …    ┆ …      ┆ …           ┆ …           ┆ …           ┆ …           ┆ …           ┆ …          │\n",
       "│ NL   ┆ 2021   ┆ 12376       ┆ 3907        ┆ 354         ┆ 2885        ┆ 80604       ┆ 0.406828   │\n",
       "│ NL   ┆ 2022   ┆ 12846       ┆ 3984        ┆ 348         ┆ 2658        ┆ 81649       ┆ 0.397923   │\n",
       "│ AL   ┆ 2022   ┆ 13031       ┆ 3956        ┆ 295         ┆ 2557        ┆ 81816       ┆ 0.391806   │\n",
       "│ NL   ┆ 2023   ┆ 13114       ┆ 4098        ┆ 370         ┆ 2943        ┆ 82094       ┆ 0.416498   │\n",
       "│ AL   ┆ 2023   ┆ 12917       ┆ 4130        ┆ 342         ┆ 2925        ┆ 82324       ┆ 0.411824   │\n",
       "└──────┴────────┴─────────────┴─────────────┴─────────────┴─────────────┴─────────────┴────────────┘"
      ]
     },
     "execution_count": 16,
     "metadata": {},
     "output_type": "execute_result"
    }
   ],
   "source": [
    "df = (\n",
    "    df\n",
    "    .with_columns([((pl.col(\"Total_Singles\") + (pl.col('Total_Doubles') * 2) + (pl.col('Total_Triples') * 3) + (pl.col('Total_HomeRuns') * 4)) / pl.col('Total_AtBats'))\n",
    "                     .alias(\"Slugging_Percentage\")])\n",
    "   .sort(pl.col('yearID'))\n",
    "    )\n",
    "\n",
    "df"
   ]
  },
  {
   "cell_type": "code",
   "execution_count": 17,
   "id": "e139cb47-ebcd-4584-948f-3eece1a61c25",
   "metadata": {},
   "outputs": [
    {
     "name": "stdout",
     "output_type": "stream",
     "text": [
      "shape: (5, 9)\n",
      "┌──────┬────────┬──────────────┬──────────────┬───┬──────────────┬─────────────┬─────────────┬─────┐\n",
      "│ lgID ┆ yearID ┆ Total_Single ┆ Total_Double ┆ … ┆ Total_HomeRu ┆ Total_AtBat ┆ Slugging_Pe ┆ DH  │\n",
      "│ ---  ┆ ---    ┆ s            ┆ s            ┆   ┆ ns           ┆ s           ┆ rcentage    ┆ --- │\n",
      "│ str  ┆ i64    ┆ ---          ┆ ---          ┆   ┆ ---          ┆ ---         ┆ ---         ┆ str │\n",
      "│      ┆        ┆ i64          ┆ i64          ┆   ┆ i64          ┆ i64         ┆ f64         ┆     │\n",
      "╞══════╪════════╪══════════════╪══════════════╪═══╪══════════════╪═════════════╪═════════════╪═════╡\n",
      "│ NL   ┆ 1946   ┆ 8066         ┆ 1752         ┆ … ┆ 562          ┆ 42094       ┆ 0.35549     ┆ No  │\n",
      "│ AL   ┆ 1946   ┆ 7912         ┆ 1827         ┆ … ┆ 653          ┆ 42239       ┆ 0.364142    ┆ No  │\n",
      "│ AL   ┆ 1947   ┆ 7940         ┆ 1708         ┆ … ┆ 679          ┆ 42002       ┆ 0.364459    ┆ No  │\n",
      "│ NL   ┆ 1947   ┆ 8126         ┆ 1860         ┆ … ┆ 886          ┆ 42434       ┆ 0.390394    ┆ No  │\n",
      "│ AL   ┆ 1948   ┆ 8206         ┆ 1846         ┆ … ┆ 710          ┆ 42155       ┆ 0.381639    ┆ No  │\n",
      "└──────┴────────┴──────────────┴──────────────┴───┴──────────────┴─────────────┴─────────────┴─────┘\n"
     ]
    }
   ],
   "source": [
    "df = (\n",
    "    df.with_columns(\n",
    "        pl\n",
    "        .when((pl.col('lgID') == 'NL') & (pl.col('yearID').is_in(2020) | pl.col('yearID') >= 2022))\n",
    "            .then(pl.lit('Yes'))\n",
    "        .when((pl.col('lgID') == 'AL') & (pl.col('yearID') >= 1973))\n",
    "            .then(pl.lit('Yes'))\n",
    "        .otherwise(pl.lit('No'))\n",
    "        .alias('DH')\n",
    "    )\n",
    ")\n",
    "\n",
    "print(df.head())"
   ]
  },
  {
   "cell_type": "code",
   "execution_count": 37,
   "id": "dd4c6bf9-a4a7-4c47-8271-74b689a8c822",
   "metadata": {},
   "outputs": [
    {
     "data": {
      "text/html": [
       "<div><style>\n",
       ".dataframe > thead > tr,\n",
       ".dataframe > tbody > tr {\n",
       "  text-align: right;\n",
       "  white-space: pre-wrap;\n",
       "}\n",
       "</style>\n",
       "<small>shape: (104, 11)</small><table border=\"1\" class=\"dataframe\"><thead><tr><th>lgID</th><th>yearID</th><th>Total_Singles</th><th>Total_Doubles</th><th>Total_Triples</th><th>Total_HomeRuns</th><th>Total_AtBats</th><th>Slugging_Percentage</th><th>DH</th><th>Total_Sum</th><th>League ERA</th></tr><tr><td>str</td><td>i64</td><td>i64</td><td>i64</td><td>i64</td><td>i64</td><td>i64</td><td>f64</td><td>str</td><td>i64</td><td>f64</td></tr></thead><tbody><tr><td>&quot;AL&quot;</td><td>1972</td><td>11000</td><td>2260</td><td>316</td><td>1175</td><td>61712</td><td>0.343013</td><td>&quot;No&quot;</td><td>14751</td><td>4917.0</td></tr><tr><td>&quot;NL&quot;</td><td>1972</td><td>11502</td><td>2392</td><td>430</td><td>1359</td><td>63116</td><td>0.364599</td><td>&quot;No&quot;</td><td>15683</td><td>5227.666667</td></tr><tr><td>&quot;NL&quot;</td><td>1973</td><td>12281</td><td>2600</td><td>386</td><td>1550</td><td>66087</td><td>0.375853</td><td>&quot;No&quot;</td><td>16817</td><td>5605.666667</td></tr><tr><td>&quot;AL&quot;</td><td>1973</td><td>12613</td><td>2624</td><td>404</td><td>1552</td><td>66276</td><td>0.38145</td><td>&quot;Yes&quot;</td><td>17193</td><td>5731.0</td></tr><tr><td>&quot;NL&quot;</td><td>1974</td><td>12538</td><td>2642</td><td>447</td><td>1280</td><td>66212</td><td>0.366746</td><td>&quot;No&quot;</td><td>16907</td><td>5635.666667</td></tr><tr><td>&hellip;</td><td>&hellip;</td><td>&hellip;</td><td>&hellip;</td><td>&hellip;</td><td>&hellip;</td><td>&hellip;</td><td>&hellip;</td><td>&hellip;</td><td>&hellip;</td><td>&hellip;</td></tr><tr><td>&quot;NL&quot;</td><td>2021</td><td>12376</td><td>3907</td><td>354</td><td>2885</td><td>80604</td><td>0.406828</td><td>&quot;No&quot;</td><td>19522</td><td>6507.333333</td></tr><tr><td>&quot;NL&quot;</td><td>2022</td><td>12846</td><td>3984</td><td>348</td><td>2658</td><td>81649</td><td>0.397923</td><td>&quot;Yes&quot;</td><td>19836</td><td>6612.0</td></tr><tr><td>&quot;AL&quot;</td><td>2022</td><td>13031</td><td>3956</td><td>295</td><td>2557</td><td>81816</td><td>0.391806</td><td>&quot;Yes&quot;</td><td>19839</td><td>6613.0</td></tr><tr><td>&quot;NL&quot;</td><td>2023</td><td>13114</td><td>4098</td><td>370</td><td>2943</td><td>82094</td><td>0.416498</td><td>&quot;Yes&quot;</td><td>20525</td><td>6841.666667</td></tr><tr><td>&quot;AL&quot;</td><td>2023</td><td>12917</td><td>4130</td><td>342</td><td>2925</td><td>82324</td><td>0.411824</td><td>&quot;Yes&quot;</td><td>20314</td><td>6771.333333</td></tr></tbody></table></div>"
      ],
      "text/plain": [
       "shape: (104, 11)\n",
       "┌──────┬────────┬───────────────┬───────────────┬───┬──────────────┬─────┬───────────┬─────────────┐\n",
       "│ lgID ┆ yearID ┆ Total_Singles ┆ Total_Doubles ┆ … ┆ Slugging_Per ┆ DH  ┆ Total_Sum ┆ League ERA  │\n",
       "│ ---  ┆ ---    ┆ ---           ┆ ---           ┆   ┆ centage      ┆ --- ┆ ---       ┆ ---         │\n",
       "│ str  ┆ i64    ┆ i64           ┆ i64           ┆   ┆ ---          ┆ str ┆ i64       ┆ f64         │\n",
       "│      ┆        ┆               ┆               ┆   ┆ f64          ┆     ┆           ┆             │\n",
       "╞══════╪════════╪═══════════════╪═══════════════╪═══╪══════════════╪═════╪═══════════╪═════════════╡\n",
       "│ AL   ┆ 1972   ┆ 11000         ┆ 2260          ┆ … ┆ 0.343013     ┆ No  ┆ 14751     ┆ 4917.0      │\n",
       "│ NL   ┆ 1972   ┆ 11502         ┆ 2392          ┆ … ┆ 0.364599     ┆ No  ┆ 15683     ┆ 5227.666667 │\n",
       "│ NL   ┆ 1973   ┆ 12281         ┆ 2600          ┆ … ┆ 0.375853     ┆ No  ┆ 16817     ┆ 5605.666667 │\n",
       "│ AL   ┆ 1973   ┆ 12613         ┆ 2624          ┆ … ┆ 0.38145      ┆ Yes ┆ 17193     ┆ 5731.0      │\n",
       "│ NL   ┆ 1974   ┆ 12538         ┆ 2642          ┆ … ┆ 0.366746     ┆ No  ┆ 16907     ┆ 5635.666667 │\n",
       "│ …    ┆ …      ┆ …             ┆ …             ┆ … ┆ …            ┆ …   ┆ …         ┆ …           │\n",
       "│ NL   ┆ 2021   ┆ 12376         ┆ 3907          ┆ … ┆ 0.406828     ┆ No  ┆ 19522     ┆ 6507.333333 │\n",
       "│ NL   ┆ 2022   ┆ 12846         ┆ 3984          ┆ … ┆ 0.397923     ┆ Yes ┆ 19836     ┆ 6612.0      │\n",
       "│ AL   ┆ 2022   ┆ 13031         ┆ 3956          ┆ … ┆ 0.391806     ┆ Yes ┆ 19839     ┆ 6613.0      │\n",
       "│ NL   ┆ 2023   ┆ 13114         ┆ 4098          ┆ … ┆ 0.416498     ┆ Yes ┆ 20525     ┆ 6841.666667 │\n",
       "│ AL   ┆ 2023   ┆ 12917         ┆ 4130          ┆ … ┆ 0.411824     ┆ Yes ┆ 20314     ┆ 6771.333333 │\n",
       "└──────┴────────┴───────────────┴───────────────┴───┴──────────────┴─────┴───────────┴─────────────┘"
      ]
     },
     "execution_count": 37,
     "metadata": {},
     "output_type": "execute_result"
    }
   ],
   "source": [
    "df.filter(pl.col('yearID') > 1971)"
   ]
  },
  {
   "cell_type": "code",
   "execution_count": 19,
   "id": "36a4eaeb-a9c5-4982-a078-110e8b67ebf1",
   "metadata": {},
   "outputs": [],
   "source": [
    "df.write_csv('./Data/Slugging_Data.csv', separator=\",\")"
   ]
  },
  {
   "cell_type": "code",
   "execution_count": 29,
   "id": "d67efe29-0963-4468-9ae5-ae990a765ebf",
   "metadata": {},
   "outputs": [
    {
     "data": {
      "text/html": [
       "<div><style>\n",
       ".dataframe > thead > tr,\n",
       ".dataframe > tbody > tr {\n",
       "  text-align: right;\n",
       "  white-space: pre-wrap;\n",
       "}\n",
       "</style>\n",
       "<small>shape: (234, 3)</small><table border=\"1\" class=\"dataframe\"><thead><tr><th>yearID</th><th>League</th><th>League Slugging %</th></tr><tr><td>i64</td><td>str</td><td>f64</td></tr></thead><tbody><tr><td>1946</td><td>&quot;AL&quot;</td><td>0.364142</td></tr><tr><td>1946</td><td>&quot;NL&quot;</td><td>0.35549</td></tr><tr><td>1946</td><td>&quot;AL - NL&quot;</td><td>0.008652</td></tr><tr><td>1947</td><td>&quot;AL&quot;</td><td>0.364459</td></tr><tr><td>1947</td><td>&quot;NL&quot;</td><td>0.390394</td></tr><tr><td>&hellip;</td><td>&hellip;</td><td>&hellip;</td></tr><tr><td>2022</td><td>&quot;NL&quot;</td><td>0.397923</td></tr><tr><td>2022</td><td>&quot;AL - NL&quot;</td><td>-0.006117</td></tr><tr><td>2023</td><td>&quot;AL&quot;</td><td>0.411824</td></tr><tr><td>2023</td><td>&quot;NL&quot;</td><td>0.416498</td></tr><tr><td>2023</td><td>&quot;AL - NL&quot;</td><td>-0.004674</td></tr></tbody></table></div>"
      ],
      "text/plain": [
       "shape: (234, 3)\n",
       "┌────────┬─────────┬───────────────────┐\n",
       "│ yearID ┆ League  ┆ League Slugging % │\n",
       "│ ---    ┆ ---     ┆ ---               │\n",
       "│ i64    ┆ str     ┆ f64               │\n",
       "╞════════╪═════════╪═══════════════════╡\n",
       "│ 1946   ┆ AL      ┆ 0.364142          │\n",
       "│ 1946   ┆ NL      ┆ 0.35549           │\n",
       "│ 1946   ┆ AL - NL ┆ 0.008652          │\n",
       "│ 1947   ┆ AL      ┆ 0.364459          │\n",
       "│ 1947   ┆ NL      ┆ 0.390394          │\n",
       "│ …      ┆ …       ┆ …                 │\n",
       "│ 2022   ┆ NL      ┆ 0.397923          │\n",
       "│ 2022   ┆ AL - NL ┆ -0.006117         │\n",
       "│ 2023   ┆ AL      ┆ 0.411824          │\n",
       "│ 2023   ┆ NL      ┆ 0.416498          │\n",
       "│ 2023   ┆ AL - NL ┆ -0.004674         │\n",
       "└────────┴─────────┴───────────────────┘"
      ]
     },
     "execution_count": 29,
     "metadata": {},
     "output_type": "execute_result"
    }
   ],
   "source": [
    "baseball_pivot = df.pivot('lgID', index='yearID', values='Slugging_Percentage')\n",
    "baseball_pivot = baseball_pivot.with_columns((pl.col('AL') - pl.col('NL')).alias('AL - NL'))\n",
    "baseball_unpivot = (baseball_pivot\n",
    "                 .unpivot(['AL', 'NL', 'AL - NL'], \n",
    "                          index='yearID', \n",
    "                          variable_name='League', \n",
    "                          value_name='League Slugging %')\n",
    "                 .sort(pl.col('yearID'))\n",
    "                )\n",
    "\n",
    "baseball_unpivot"
   ]
  },
  {
   "cell_type": "code",
   "execution_count": 44,
   "id": "c067af39-ac7e-4a82-ada6-d95d1f5b9b01",
   "metadata": {},
   "outputs": [
    {
     "name": "stderr",
     "output_type": "stream",
     "text": [
      "C:\\Users\\jb5983on\\AppData\\Local\\anaconda3\\envs\\polars\\Lib\\site-packages\\plotnine\\ggplot.py:606: PlotnineWarning: Saving 13 x 5 in image.\n",
      "C:\\Users\\jb5983on\\AppData\\Local\\anaconda3\\envs\\polars\\Lib\\site-packages\\plotnine\\ggplot.py:607: PlotnineWarning: Filename: baseball_Slugging.png\n"
     ]
    }
   ],
   "source": [
    "from plotnine import ggplot, geom_line, aes, labs, geom_vline, geom_hline, annotate, theme_classic\n",
    "\n",
    "Slugging_plot = (ggplot(data = baseball_unpivot)\n",
    " + geom_hline(yintercept=0) \n",
    " + geom_line(aes(x = \"yearID\",                 \n",
    "                y = \"League Slugging %\",\n",
    "                color = \"League\"))\n",
    "  + labs(title=\"League Slugging % vs. yearID\", size=30)\n",
    "  + geom_vline(xintercept=1973,\n",
    "               linetype = \"dotted\",\n",
    "               colour= \"orange\")\n",
    "  + theme_classic()\n",
    "  + annotate('text', x=1962, y = .1, label='DH introduced to the AL in 1973', size=12)\n",
    "  + theme(figure_size=(13, 5))\n",
    ")\n",
    "\n",
    "Slugging_plot.save('baseball_Slugging.png', dpi=300)"
   ]
  }
 ],
 "metadata": {
  "kernelspec": {
   "display_name": "Python 3 (ipykernel)",
   "language": "python",
   "name": "python3"
  },
  "language_info": {
   "codemirror_mode": {
    "name": "ipython",
    "version": 3
   },
   "file_extension": ".py",
   "mimetype": "text/x-python",
   "name": "python",
   "nbconvert_exporter": "python",
   "pygments_lexer": "ipython3",
   "version": "3.12.5"
  }
 },
 "nbformat": 4,
 "nbformat_minor": 5
}
