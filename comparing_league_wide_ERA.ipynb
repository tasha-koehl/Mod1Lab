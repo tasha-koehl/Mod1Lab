{
 "cells": [
  {
   "cell_type": "code",
   "execution_count": 323,
   "id": "6d9de08b-4441-4e05-ab94-7bdf6a4429c4",
   "metadata": {},
   "outputs": [],
   "source": [
    "import polars as pl"
   ]
  },
  {
   "cell_type": "code",
   "execution_count": 324,
   "id": "a93912b9-e87d-4cf4-b426-849c8110090e",
   "metadata": {
    "scrolled": true
   },
   "outputs": [
    {
     "data": {
      "text/html": [
       "<div><style>\n",
       ".dataframe > thead > tr,\n",
       ".dataframe > tbody > tr {\n",
       "  text-align: right;\n",
       "  white-space: pre-wrap;\n",
       "}\n",
       "</style>\n",
       "<small>shape: (51_368, 30)</small><table border=\"1\" class=\"dataframe\"><thead><tr><th>playerID</th><th>yearID</th><th>stint</th><th>teamID</th><th>lgID</th><th>W</th><th>L</th><th>G</th><th>GS</th><th>CG</th><th>SHO</th><th>SV</th><th>IPouts</th><th>H</th><th>ER</th><th>HR</th><th>BB</th><th>SO</th><th>BAOpp</th><th>ERA</th><th>IBB</th><th>WP</th><th>HBP</th><th>BK</th><th>BFP</th><th>GF</th><th>R</th><th>SH</th><th>SF</th><th>GIDP</th></tr><tr><td>str</td><td>i64</td><td>i64</td><td>str</td><td>str</td><td>i64</td><td>i64</td><td>i64</td><td>i64</td><td>i64</td><td>i64</td><td>i64</td><td>i64</td><td>i64</td><td>i64</td><td>i64</td><td>i64</td><td>i64</td><td>f64</td><td>f64</td><td>i64</td><td>i64</td><td>i64</td><td>i64</td><td>i64</td><td>i64</td><td>i64</td><td>i64</td><td>i64</td><td>i64</td></tr></thead><tbody><tr><td>&quot;aardsda01&quot;</td><td>2004</td><td>1</td><td>&quot;SFN&quot;</td><td>&quot;NL&quot;</td><td>1</td><td>0</td><td>11</td><td>0</td><td>0</td><td>0</td><td>0</td><td>32</td><td>20</td><td>8</td><td>1</td><td>10</td><td>5</td><td>0.417</td><td>6.75</td><td>0</td><td>0</td><td>2</td><td>0</td><td>61</td><td>5</td><td>8</td><td>0</td><td>1</td><td>1</td></tr><tr><td>&quot;aardsda01&quot;</td><td>2006</td><td>1</td><td>&quot;CHN&quot;</td><td>&quot;NL&quot;</td><td>3</td><td>0</td><td>45</td><td>0</td><td>0</td><td>0</td><td>0</td><td>159</td><td>41</td><td>24</td><td>9</td><td>28</td><td>49</td><td>0.214</td><td>4.08</td><td>0</td><td>1</td><td>1</td><td>0</td><td>225</td><td>9</td><td>25</td><td>1</td><td>3</td><td>2</td></tr><tr><td>&quot;aardsda01&quot;</td><td>2007</td><td>1</td><td>&quot;CHA&quot;</td><td>&quot;AL&quot;</td><td>2</td><td>1</td><td>25</td><td>0</td><td>0</td><td>0</td><td>0</td><td>97</td><td>39</td><td>23</td><td>4</td><td>17</td><td>36</td><td>0.3</td><td>6.4</td><td>3</td><td>2</td><td>1</td><td>0</td><td>151</td><td>7</td><td>24</td><td>2</td><td>1</td><td>1</td></tr><tr><td>&quot;aardsda01&quot;</td><td>2008</td><td>1</td><td>&quot;BOS&quot;</td><td>&quot;AL&quot;</td><td>4</td><td>2</td><td>47</td><td>0</td><td>0</td><td>0</td><td>0</td><td>146</td><td>49</td><td>30</td><td>4</td><td>35</td><td>49</td><td>0.268</td><td>5.55</td><td>2</td><td>3</td><td>5</td><td>0</td><td>228</td><td>7</td><td>32</td><td>3</td><td>2</td><td>4</td></tr><tr><td>&quot;aardsda01&quot;</td><td>2009</td><td>1</td><td>&quot;SEA&quot;</td><td>&quot;AL&quot;</td><td>3</td><td>6</td><td>73</td><td>0</td><td>0</td><td>0</td><td>38</td><td>214</td><td>49</td><td>20</td><td>4</td><td>34</td><td>80</td><td>0.19</td><td>2.52</td><td>3</td><td>2</td><td>0</td><td>0</td><td>296</td><td>53</td><td>23</td><td>2</td><td>1</td><td>2</td></tr><tr><td>&hellip;</td><td>&hellip;</td><td>&hellip;</td><td>&hellip;</td><td>&hellip;</td><td>&hellip;</td><td>&hellip;</td><td>&hellip;</td><td>&hellip;</td><td>&hellip;</td><td>&hellip;</td><td>&hellip;</td><td>&hellip;</td><td>&hellip;</td><td>&hellip;</td><td>&hellip;</td><td>&hellip;</td><td>&hellip;</td><td>&hellip;</td><td>&hellip;</td><td>&hellip;</td><td>&hellip;</td><td>&hellip;</td><td>&hellip;</td><td>&hellip;</td><td>&hellip;</td><td>&hellip;</td><td>&hellip;</td><td>&hellip;</td><td>&hellip;</td></tr><tr><td>&quot;zuverge01&quot;</td><td>1958</td><td>1</td><td>&quot;BAL&quot;</td><td>&quot;AL&quot;</td><td>2</td><td>2</td><td>45</td><td>0</td><td>0</td><td>0</td><td>7</td><td>207</td><td>74</td><td>26</td><td>4</td><td>17</td><td>22</td><td>0.28</td><td>3.39</td><td>3</td><td>2</td><td>6</td><td>0</td><td>294</td><td>23</td><td>29</td><td>null</td><td>null</td><td>null</td></tr><tr><td>&quot;zuverge01&quot;</td><td>1959</td><td>1</td><td>&quot;BAL&quot;</td><td>&quot;AL&quot;</td><td>0</td><td>1</td><td>6</td><td>0</td><td>0</td><td>0</td><td>0</td><td>39</td><td>15</td><td>6</td><td>1</td><td>6</td><td>1</td><td>0.3</td><td>4.15</td><td>0</td><td>1</td><td>0</td><td>0</td><td>55</td><td>1</td><td>7</td><td>null</td><td>null</td><td>null</td></tr><tr><td>&quot;zychto01&quot;</td><td>2015</td><td>1</td><td>&quot;SEA&quot;</td><td>&quot;AL&quot;</td><td>0</td><td>0</td><td>13</td><td>1</td><td>0</td><td>0</td><td>0</td><td>55</td><td>17</td><td>5</td><td>1</td><td>3</td><td>24</td><td>0.239</td><td>2.45</td><td>0</td><td>1</td><td>2</td><td>0</td><td>76</td><td>4</td><td>6</td><td>0</td><td>0</td><td>0</td></tr><tr><td>&quot;zychto01&quot;</td><td>2016</td><td>1</td><td>&quot;SEA&quot;</td><td>&quot;AL&quot;</td><td>1</td><td>0</td><td>12</td><td>0</td><td>0</td><td>0</td><td>0</td><td>41</td><td>10</td><td>5</td><td>0</td><td>10</td><td>21</td><td>0.208</td><td>3.29</td><td>2</td><td>0</td><td>1</td><td>0</td><td>60</td><td>3</td><td>6</td><td>0</td><td>1</td><td>1</td></tr><tr><td>&quot;zychto01&quot;</td><td>2017</td><td>1</td><td>&quot;SEA&quot;</td><td>&quot;AL&quot;</td><td>6</td><td>3</td><td>45</td><td>0</td><td>0</td><td>0</td><td>1</td><td>122</td><td>30</td><td>12</td><td>2</td><td>21</td><td>35</td><td>0.208</td><td>2.66</td><td>3</td><td>1</td><td>5</td><td>1</td><td>173</td><td>7</td><td>12</td><td>1</td><td>2</td><td>5</td></tr></tbody></table></div>"
      ],
      "text/plain": [
       "shape: (51_368, 30)\n",
       "┌───────────┬────────┬───────┬────────┬───┬─────┬──────┬──────┬──────┐\n",
       "│ playerID  ┆ yearID ┆ stint ┆ teamID ┆ … ┆ R   ┆ SH   ┆ SF   ┆ GIDP │\n",
       "│ ---       ┆ ---    ┆ ---   ┆ ---    ┆   ┆ --- ┆ ---  ┆ ---  ┆ ---  │\n",
       "│ str       ┆ i64    ┆ i64   ┆ str    ┆   ┆ i64 ┆ i64  ┆ i64  ┆ i64  │\n",
       "╞═══════════╪════════╪═══════╪════════╪═══╪═════╪══════╪══════╪══════╡\n",
       "│ aardsda01 ┆ 2004   ┆ 1     ┆ SFN    ┆ … ┆ 8   ┆ 0    ┆ 1    ┆ 1    │\n",
       "│ aardsda01 ┆ 2006   ┆ 1     ┆ CHN    ┆ … ┆ 25  ┆ 1    ┆ 3    ┆ 2    │\n",
       "│ aardsda01 ┆ 2007   ┆ 1     ┆ CHA    ┆ … ┆ 24  ┆ 2    ┆ 1    ┆ 1    │\n",
       "│ aardsda01 ┆ 2008   ┆ 1     ┆ BOS    ┆ … ┆ 32  ┆ 3    ┆ 2    ┆ 4    │\n",
       "│ aardsda01 ┆ 2009   ┆ 1     ┆ SEA    ┆ … ┆ 23  ┆ 2    ┆ 1    ┆ 2    │\n",
       "│ …         ┆ …      ┆ …     ┆ …      ┆ … ┆ …   ┆ …    ┆ …    ┆ …    │\n",
       "│ zuverge01 ┆ 1958   ┆ 1     ┆ BAL    ┆ … ┆ 29  ┆ null ┆ null ┆ null │\n",
       "│ zuverge01 ┆ 1959   ┆ 1     ┆ BAL    ┆ … ┆ 7   ┆ null ┆ null ┆ null │\n",
       "│ zychto01  ┆ 2015   ┆ 1     ┆ SEA    ┆ … ┆ 6   ┆ 0    ┆ 0    ┆ 0    │\n",
       "│ zychto01  ┆ 2016   ┆ 1     ┆ SEA    ┆ … ┆ 6   ┆ 0    ┆ 1    ┆ 1    │\n",
       "│ zychto01  ┆ 2017   ┆ 1     ┆ SEA    ┆ … ┆ 12  ┆ 1    ┆ 2    ┆ 5    │\n",
       "└───────────┴────────┴───────┴────────┴───┴─────┴──────┴──────┴──────┘"
      ]
     },
     "execution_count": 324,
     "metadata": {},
     "output_type": "execute_result"
    }
   ],
   "source": [
    "df = pl.read_csv('./Data/lahman_1871-2023_csv/Pitching.csv')\n",
    "df"
   ]
  },
  {
   "cell_type": "code",
   "execution_count": 325,
   "id": "e3ddc11c-15e6-46ea-995e-254d72844fa7",
   "metadata": {},
   "outputs": [
    {
     "data": {
      "text/html": [
       "<div><style>\n",
       ".dataframe > thead > tr,\n",
       ".dataframe > tbody > tr {\n",
       "  text-align: right;\n",
       "  white-space: pre-wrap;\n",
       "}\n",
       "</style>\n",
       "<small>shape: (156, 4)</small><table border=\"1\" class=\"dataframe\"><thead><tr><th>lgID</th><th>yearID</th><th>Total_Runs</th><th>Total_Outs</th></tr><tr><td>str</td><td>i64</td><td>i64</td><td>i64</td></tr></thead><tbody><tr><td>&quot;AL&quot;</td><td>1956</td><td>5756</td><td>33095</td></tr><tr><td>&quot;AL&quot;</td><td>2020</td><td>4159</td><td>23338</td></tr><tr><td>&quot;AL&quot;</td><td>1979</td><td>10527</td><td>60155</td></tr><tr><td>&quot;AL&quot;</td><td>2011</td><td>10036</td><td>60850</td></tr><tr><td>&quot;AL&quot;</td><td>1992</td><td>9802</td><td>60987</td></tr><tr><td>&hellip;</td><td>&hellip;</td><td>&hellip;</td><td>&hellip;</td></tr><tr><td>&quot;AL&quot;</td><td>2017</td><td>11337</td><td>64892</td></tr><tr><td>&quot;AL&quot;</td><td>1990</td><td>9746</td><td>60547</td></tr><tr><td>&quot;AL&quot;</td><td>1949</td><td>5776</td><td>32823</td></tr><tr><td>&quot;NL&quot;</td><td>1990</td><td>8173</td><td>52144</td></tr><tr><td>&quot;AL&quot;</td><td>2015</td><td>10422</td><td>65083</td></tr></tbody></table></div>"
      ],
      "text/plain": [
       "shape: (156, 4)\n",
       "┌──────┬────────┬────────────┬────────────┐\n",
       "│ lgID ┆ yearID ┆ Total_Runs ┆ Total_Outs │\n",
       "│ ---  ┆ ---    ┆ ---        ┆ ---        │\n",
       "│ str  ┆ i64    ┆ i64        ┆ i64        │\n",
       "╞══════╪════════╪════════════╪════════════╡\n",
       "│ AL   ┆ 1956   ┆ 5756       ┆ 33095      │\n",
       "│ AL   ┆ 2020   ┆ 4159       ┆ 23338      │\n",
       "│ AL   ┆ 1979   ┆ 10527      ┆ 60155      │\n",
       "│ AL   ┆ 2011   ┆ 10036      ┆ 60850      │\n",
       "│ AL   ┆ 1992   ┆ 9802       ┆ 60987      │\n",
       "│ …    ┆ …      ┆ …          ┆ …          │\n",
       "│ AL   ┆ 2017   ┆ 11337      ┆ 64892      │\n",
       "│ AL   ┆ 1990   ┆ 9746       ┆ 60547      │\n",
       "│ AL   ┆ 1949   ┆ 5776       ┆ 32823      │\n",
       "│ NL   ┆ 1990   ┆ 8173       ┆ 52144      │\n",
       "│ AL   ┆ 2015   ┆ 10422      ┆ 65083      │\n",
       "└──────┴────────┴────────────┴────────────┘"
      ]
     },
     "execution_count": 325,
     "metadata": {},
     "output_type": "execute_result"
    }
   ],
   "source": [
    "df = (\n",
    "    df\n",
    "    .select(['yearID', 'lgID', 'R', 'IPouts'])\n",
    "    .filter(pl.col('yearID') > 1945)\n",
    "    .filter((pl.col('lgID') == 'AL') | (pl.col('lgID') == 'NL'))\n",
    "    .group_by(['lgID', 'yearID'])\n",
    "    .agg(pl.col(\"R\").sum().alias(\"Total_Runs\"), pl.col(\"IPouts\").sum().alias(\"Total_Outs\"))\n",
    ")\n",
    "\n",
    "df"
   ]
  },
  {
   "cell_type": "code",
   "execution_count": 326,
   "id": "73410580-2cda-4e06-a910-c3de8810a2bb",
   "metadata": {},
   "outputs": [
    {
     "data": {
      "text/html": [
       "<div><style>\n",
       ".dataframe > thead > tr,\n",
       ".dataframe > tbody > tr {\n",
       "  text-align: right;\n",
       "  white-space: pre-wrap;\n",
       "}\n",
       "</style>\n",
       "<small>shape: (156, 5)</small><table border=\"1\" class=\"dataframe\"><thead><tr><th>lgID</th><th>yearID</th><th>Total_Runs</th><th>Total_Outs</th><th>ERA</th></tr><tr><td>str</td><td>i64</td><td>i64</td><td>i64</td><td>f64</td></tr></thead><tbody><tr><td>&quot;AL&quot;</td><td>1946</td><td>5037</td><td>33186</td><td>4.098084</td></tr><tr><td>&quot;NL&quot;</td><td>1946</td><td>4918</td><td>33254</td><td>3.993084</td></tr><tr><td>&quot;AL&quot;</td><td>1947</td><td>5161</td><td>33228</td><td>4.193662</td></tr><tr><td>&quot;NL&quot;</td><td>1947</td><td>5669</td><td>32902</td><td>4.652088</td></tr><tr><td>&quot;AL&quot;</td><td>1948</td><td>5838</td><td>32929</td><td>4.786844</td></tr><tr><td>&hellip;</td><td>&hellip;</td><td>&hellip;</td><td>&hellip;</td><td>&hellip;</td></tr><tr><td>&quot;NL&quot;</td><td>2021</td><td>10869</td><td>63797</td><td>4.59995</td></tr><tr><td>&quot;NL&quot;</td><td>2022</td><td>10602</td><td>64550</td><td>4.434609</td></tr><tr><td>&quot;AL&quot;</td><td>2022</td><td>10215</td><td>64676</td><td>4.26441</td></tr><tr><td>&quot;NL&quot;</td><td>2023</td><td>11322</td><td>64529</td><td>4.737312</td></tr><tr><td>&quot;AL&quot;</td><td>2023</td><td>11110</td><td>64733</td><td>4.633958</td></tr></tbody></table></div>"
      ],
      "text/plain": [
       "shape: (156, 5)\n",
       "┌──────┬────────┬────────────┬────────────┬──────────┐\n",
       "│ lgID ┆ yearID ┆ Total_Runs ┆ Total_Outs ┆ ERA      │\n",
       "│ ---  ┆ ---    ┆ ---        ┆ ---        ┆ ---      │\n",
       "│ str  ┆ i64    ┆ i64        ┆ i64        ┆ f64      │\n",
       "╞══════╪════════╪════════════╪════════════╪══════════╡\n",
       "│ AL   ┆ 1946   ┆ 5037       ┆ 33186      ┆ 4.098084 │\n",
       "│ NL   ┆ 1946   ┆ 4918       ┆ 33254      ┆ 3.993084 │\n",
       "│ AL   ┆ 1947   ┆ 5161       ┆ 33228      ┆ 4.193662 │\n",
       "│ NL   ┆ 1947   ┆ 5669       ┆ 32902      ┆ 4.652088 │\n",
       "│ AL   ┆ 1948   ┆ 5838       ┆ 32929      ┆ 4.786844 │\n",
       "│ …    ┆ …      ┆ …          ┆ …          ┆ …        │\n",
       "│ NL   ┆ 2021   ┆ 10869      ┆ 63797      ┆ 4.59995  │\n",
       "│ NL   ┆ 2022   ┆ 10602      ┆ 64550      ┆ 4.434609 │\n",
       "│ AL   ┆ 2022   ┆ 10215      ┆ 64676      ┆ 4.26441  │\n",
       "│ NL   ┆ 2023   ┆ 11322      ┆ 64529      ┆ 4.737312 │\n",
       "│ AL   ┆ 2023   ┆ 11110      ┆ 64733      ┆ 4.633958 │\n",
       "└──────┴────────┴────────────┴────────────┴──────────┘"
      ]
     },
     "execution_count": 326,
     "metadata": {},
     "output_type": "execute_result"
    }
   ],
   "source": [
    "df = (\n",
    "    df\n",
    "    .with_columns([((pl.col(\"Total_Runs\") / pl.col(\"Total_Outs\")) * 27).alias(\"ERA\")])\n",
    "   .sort(pl.col('yearID'))\n",
    "    )\n",
    "\n",
    "df"
   ]
  },
  {
   "cell_type": "code",
   "execution_count": 329,
   "id": "cab56d1d-bb40-4cb3-85b0-53636d30fe3d",
   "metadata": {},
   "outputs": [
    {
     "name": "stdout",
     "output_type": "stream",
     "text": [
      "shape: (5, 6)\n",
      "┌──────┬────────┬────────────┬────────────┬──────────┬─────┐\n",
      "│ lgID ┆ yearID ┆ Total_Runs ┆ Total_Outs ┆ ERA      ┆ DH  │\n",
      "│ ---  ┆ ---    ┆ ---        ┆ ---        ┆ ---      ┆ --- │\n",
      "│ str  ┆ i64    ┆ i64        ┆ i64        ┆ f64      ┆ str │\n",
      "╞══════╪════════╪════════════╪════════════╪══════════╪═════╡\n",
      "│ AL   ┆ 1946   ┆ 5037       ┆ 33186      ┆ 4.098084 ┆ No  │\n",
      "│ NL   ┆ 1946   ┆ 4918       ┆ 33254      ┆ 3.993084 ┆ No  │\n",
      "│ AL   ┆ 1947   ┆ 5161       ┆ 33228      ┆ 4.193662 ┆ No  │\n",
      "│ NL   ┆ 1947   ┆ 5669       ┆ 32902      ┆ 4.652088 ┆ No  │\n",
      "│ AL   ┆ 1948   ┆ 5838       ┆ 32929      ┆ 4.786844 ┆ No  │\n",
      "└──────┴────────┴────────────┴────────────┴──────────┴─────┘\n"
     ]
    }
   ],
   "source": [
    "df = (\n",
    "    df.with_columns(\n",
    "        pl\n",
    "        .when((pl.col('lgID') == 'NL') & (pl.col('yearID').is_in(2020) | pl.col('yearID') >= 2022))\n",
    "            .then(pl.lit('Yes'))\n",
    "        .when((pl.col('lgID') == 'AL') & (pl.col('yearID') >= 1973))\n",
    "            .then(pl.lit('Yes'))\n",
    "        .otherwise(pl.lit('No'))\n",
    "        .alias('DH')\n",
    "    )\n",
    ")\n",
    "\n",
    "print(df.head())"
   ]
  },
  {
   "cell_type": "code",
   "execution_count": 328,
   "id": "aae60229-a1d4-42a2-ae9a-2c393d9c85e4",
   "metadata": {},
   "outputs": [],
   "source": [
    "df.write_csv('./Data/ERA_Data.csv', separator=\",\")"
   ]
  }
 ],
 "metadata": {
  "kernelspec": {
   "display_name": "Python 3 (ipykernel)",
   "language": "python",
   "name": "python3"
  },
  "language_info": {
   "codemirror_mode": {
    "name": "ipython",
    "version": 3
   },
   "file_extension": ".py",
   "mimetype": "text/x-python",
   "name": "python",
   "nbconvert_exporter": "python",
   "pygments_lexer": "ipython3",
   "version": "3.12.5"
  }
 },
 "nbformat": 4,
 "nbformat_minor": 5
}
