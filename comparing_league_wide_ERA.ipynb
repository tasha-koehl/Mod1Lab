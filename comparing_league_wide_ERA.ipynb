{
 "cells": [
  {
   "cell_type": "code",
   "execution_count": 2,
   "id": "e1371329-0985-48c5-934a-7f6ca039eeec",
   "metadata": {},
   "outputs": [],
   "source": [
    "import pandas as pd"
   ]
  },
  {
   "cell_type": "code",
   "execution_count": 6,
   "id": "316dfe4d-a1be-48de-b5d5-0a42780ccf90",
   "metadata": {},
   "outputs": [
    {
     "name": "stdout",
     "output_type": "stream",
     "text": [
      "           yearID  stint teamID lgID  W  L   G  GS  CG  SHO  ...  IBB  WP  \\\n",
      "playerID                                                     ...            \n",
      "aardsda01    2004      1    SFN   NL  1  0  11   0   0    0  ...  0.0   0   \n",
      "aardsda01    2006      1    CHN   NL  3  0  45   0   0    0  ...  0.0   1   \n",
      "aardsda01    2007      1    CHA   AL  2  1  25   0   0    0  ...  3.0   2   \n",
      "aardsda01    2008      1    BOS   AL  4  2  47   0   0    0  ...  2.0   3   \n",
      "aardsda01    2009      1    SEA   AL  3  6  73   0   0    0  ...  3.0   2   \n",
      "\n",
      "           HBP  BK    BFP  GF   R   SH   SF  GIDP  \n",
      "playerID                                           \n",
      "aardsda01  2.0   0   61.0   5   8  0.0  1.0   1.0  \n",
      "aardsda01  1.0   0  225.0   9  25  1.0  3.0   2.0  \n",
      "aardsda01  1.0   0  151.0   7  24  2.0  1.0   1.0  \n",
      "aardsda01  5.0   0  228.0   7  32  3.0  2.0   4.0  \n",
      "aardsda01  0.0   0  296.0  53  23  2.0  1.0   2.0  \n",
      "\n",
      "[5 rows x 29 columns]\n"
     ]
    }
   ],
   "source": [
    "df = pd.read_csv('https://raw.githubusercontent.com/tasha-koehl/Mod1Lab/main/Data/lahman_1871-2023_csv/Pitching.csv', index_col=0)\n",
    "print(df.head(5))"
   ]
  },
  {
   "cell_type": "code",
   "execution_count": null,
   "id": "e6d9f8b7-babb-4b6b-a98d-d3d2f639543a",
   "metadata": {},
   "outputs": [],
   "source": []
  }
 ],
 "metadata": {
  "kernelspec": {
   "display_name": "Python 3 (ipykernel)",
   "language": "python",
   "name": "python3"
  },
  "language_info": {
   "codemirror_mode": {
    "name": "ipython",
    "version": 3
   },
   "file_extension": ".py",
   "mimetype": "text/x-python",
   "name": "python",
   "nbconvert_exporter": "python",
   "pygments_lexer": "ipython3",
   "version": "3.12.4"
  }
 },
 "nbformat": 4,
 "nbformat_minor": 5
}
