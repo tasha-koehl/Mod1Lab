{
 "cells": [
  {
   "cell_type": "code",
   "execution_count": 58,
   "id": "8c8ff4d2-e96a-4878-a0b8-87c4b4328b6d",
   "metadata": {},
   "outputs": [],
   "source": [
    "import polars as pl"
   ]
  },
  {
   "cell_type": "code",
   "execution_count": 59,
   "id": "8b265bc3-1830-4975-9451-bde330b79ce1",
   "metadata": {},
   "outputs": [
    {
     "data": {
      "text/html": [
       "<div><style>\n",
       ".dataframe > thead > tr,\n",
       ".dataframe > tbody > tr {\n",
       "  text-align: right;\n",
       "  white-space: pre-wrap;\n",
       "}\n",
       "</style>\n",
       "<small>shape: (113_799, 24)</small><table border=\"1\" class=\"dataframe\"><thead><tr><th>playerID</th><th>yearID</th><th>stint</th><th>teamID</th><th>lgID</th><th>G</th><th>G_batting</th><th>AB</th><th>R</th><th>H</th><th>2B</th><th>3B</th><th>HR</th><th>RBI</th><th>SB</th><th>CS</th><th>BB</th><th>SO</th><th>IBB</th><th>HBP</th><th>SH</th><th>SF</th><th>GIDP</th><th>G_old</th></tr><tr><td>str</td><td>i64</td><td>i64</td><td>str</td><td>str</td><td>i64</td><td>i64</td><td>i64</td><td>i64</td><td>i64</td><td>i64</td><td>i64</td><td>i64</td><td>i64</td><td>i64</td><td>i64</td><td>i64</td><td>i64</td><td>i64</td><td>i64</td><td>i64</td><td>i64</td><td>i64</td><td>str</td></tr></thead><tbody><tr><td>&quot;aardsda01&quot;</td><td>2004</td><td>1</td><td>&quot;SFN&quot;</td><td>&quot;NL&quot;</td><td>11</td><td>null</td><td>0</td><td>0</td><td>0</td><td>0</td><td>0</td><td>0</td><td>0</td><td>0</td><td>0</td><td>0</td><td>0</td><td>0</td><td>0</td><td>0</td><td>0</td><td>0</td><td>null</td></tr><tr><td>&quot;aardsda01&quot;</td><td>2006</td><td>1</td><td>&quot;CHN&quot;</td><td>&quot;NL&quot;</td><td>45</td><td>null</td><td>2</td><td>0</td><td>0</td><td>0</td><td>0</td><td>0</td><td>0</td><td>0</td><td>0</td><td>0</td><td>0</td><td>0</td><td>0</td><td>1</td><td>0</td><td>0</td><td>null</td></tr><tr><td>&quot;aardsda01&quot;</td><td>2007</td><td>1</td><td>&quot;CHA&quot;</td><td>&quot;AL&quot;</td><td>25</td><td>null</td><td>0</td><td>0</td><td>0</td><td>0</td><td>0</td><td>0</td><td>0</td><td>0</td><td>0</td><td>0</td><td>0</td><td>0</td><td>0</td><td>0</td><td>0</td><td>0</td><td>null</td></tr><tr><td>&quot;aardsda01&quot;</td><td>2008</td><td>1</td><td>&quot;BOS&quot;</td><td>&quot;AL&quot;</td><td>47</td><td>null</td><td>1</td><td>0</td><td>0</td><td>0</td><td>0</td><td>0</td><td>0</td><td>0</td><td>0</td><td>0</td><td>1</td><td>0</td><td>0</td><td>0</td><td>0</td><td>0</td><td>null</td></tr><tr><td>&quot;aardsda01&quot;</td><td>2009</td><td>1</td><td>&quot;SEA&quot;</td><td>&quot;AL&quot;</td><td>73</td><td>null</td><td>0</td><td>0</td><td>0</td><td>0</td><td>0</td><td>0</td><td>0</td><td>0</td><td>0</td><td>0</td><td>0</td><td>0</td><td>0</td><td>0</td><td>0</td><td>0</td><td>null</td></tr><tr><td>&hellip;</td><td>&hellip;</td><td>&hellip;</td><td>&hellip;</td><td>&hellip;</td><td>&hellip;</td><td>&hellip;</td><td>&hellip;</td><td>&hellip;</td><td>&hellip;</td><td>&hellip;</td><td>&hellip;</td><td>&hellip;</td><td>&hellip;</td><td>&hellip;</td><td>&hellip;</td><td>&hellip;</td><td>&hellip;</td><td>&hellip;</td><td>&hellip;</td><td>&hellip;</td><td>&hellip;</td><td>&hellip;</td><td>&hellip;</td></tr><tr><td>&quot;zwilldu01&quot;</td><td>1915</td><td>1</td><td>&quot;CHF&quot;</td><td>&quot;FL&quot;</td><td>150</td><td>null</td><td>548</td><td>65</td><td>157</td><td>32</td><td>7</td><td>13</td><td>94</td><td>24</td><td>null</td><td>67</td><td>65</td><td>null</td><td>2</td><td>18</td><td>null</td><td>null</td><td>null</td></tr><tr><td>&quot;zwilldu01&quot;</td><td>1916</td><td>1</td><td>&quot;CHN&quot;</td><td>&quot;NL&quot;</td><td>35</td><td>null</td><td>53</td><td>4</td><td>6</td><td>1</td><td>0</td><td>1</td><td>8</td><td>0</td><td>null</td><td>4</td><td>6</td><td>null</td><td>0</td><td>2</td><td>null</td><td>null</td><td>null</td></tr><tr><td>&quot;zychto01&quot;</td><td>2015</td><td>1</td><td>&quot;SEA&quot;</td><td>&quot;AL&quot;</td><td>13</td><td>null</td><td>0</td><td>0</td><td>0</td><td>0</td><td>0</td><td>0</td><td>0</td><td>0</td><td>0</td><td>0</td><td>0</td><td>0</td><td>0</td><td>0</td><td>0</td><td>0</td><td>null</td></tr><tr><td>&quot;zychto01&quot;</td><td>2016</td><td>1</td><td>&quot;SEA&quot;</td><td>&quot;AL&quot;</td><td>12</td><td>null</td><td>0</td><td>0</td><td>0</td><td>0</td><td>0</td><td>0</td><td>0</td><td>0</td><td>0</td><td>0</td><td>0</td><td>0</td><td>0</td><td>0</td><td>0</td><td>0</td><td>null</td></tr><tr><td>&quot;zychto01&quot;</td><td>2017</td><td>1</td><td>&quot;SEA&quot;</td><td>&quot;AL&quot;</td><td>45</td><td>null</td><td>0</td><td>0</td><td>0</td><td>0</td><td>0</td><td>0</td><td>0</td><td>0</td><td>0</td><td>0</td><td>0</td><td>0</td><td>0</td><td>0</td><td>0</td><td>0</td><td>null</td></tr></tbody></table></div>"
      ],
      "text/plain": [
       "shape: (113_799, 24)\n",
       "┌───────────┬────────┬───────┬────────┬───┬─────┬──────┬──────┬───────┐\n",
       "│ playerID  ┆ yearID ┆ stint ┆ teamID ┆ … ┆ SH  ┆ SF   ┆ GIDP ┆ G_old │\n",
       "│ ---       ┆ ---    ┆ ---   ┆ ---    ┆   ┆ --- ┆ ---  ┆ ---  ┆ ---   │\n",
       "│ str       ┆ i64    ┆ i64   ┆ str    ┆   ┆ i64 ┆ i64  ┆ i64  ┆ str   │\n",
       "╞═══════════╪════════╪═══════╪════════╪═══╪═════╪══════╪══════╪═══════╡\n",
       "│ aardsda01 ┆ 2004   ┆ 1     ┆ SFN    ┆ … ┆ 0   ┆ 0    ┆ 0    ┆ null  │\n",
       "│ aardsda01 ┆ 2006   ┆ 1     ┆ CHN    ┆ … ┆ 1   ┆ 0    ┆ 0    ┆ null  │\n",
       "│ aardsda01 ┆ 2007   ┆ 1     ┆ CHA    ┆ … ┆ 0   ┆ 0    ┆ 0    ┆ null  │\n",
       "│ aardsda01 ┆ 2008   ┆ 1     ┆ BOS    ┆ … ┆ 0   ┆ 0    ┆ 0    ┆ null  │\n",
       "│ aardsda01 ┆ 2009   ┆ 1     ┆ SEA    ┆ … ┆ 0   ┆ 0    ┆ 0    ┆ null  │\n",
       "│ …         ┆ …      ┆ …     ┆ …      ┆ … ┆ …   ┆ …    ┆ …    ┆ …     │\n",
       "│ zwilldu01 ┆ 1915   ┆ 1     ┆ CHF    ┆ … ┆ 18  ┆ null ┆ null ┆ null  │\n",
       "│ zwilldu01 ┆ 1916   ┆ 1     ┆ CHN    ┆ … ┆ 2   ┆ null ┆ null ┆ null  │\n",
       "│ zychto01  ┆ 2015   ┆ 1     ┆ SEA    ┆ … ┆ 0   ┆ 0    ┆ 0    ┆ null  │\n",
       "│ zychto01  ┆ 2016   ┆ 1     ┆ SEA    ┆ … ┆ 0   ┆ 0    ┆ 0    ┆ null  │\n",
       "│ zychto01  ┆ 2017   ┆ 1     ┆ SEA    ┆ … ┆ 0   ┆ 0    ┆ 0    ┆ null  │\n",
       "└───────────┴────────┴───────┴────────┴───┴─────┴──────┴──────┴───────┘"
      ]
     },
     "execution_count": 59,
     "metadata": {},
     "output_type": "execute_result"
    }
   ],
   "source": [
    "df = pl.read_csv('./Data/lahman_1871-2023_csv/Batting.csv')\n",
    "df"
   ]
  },
  {
   "cell_type": "code",
   "execution_count": 60,
   "id": "c872c0c9-3254-455d-9986-8ab38595f2e6",
   "metadata": {},
   "outputs": [
    {
     "data": {
      "text/html": [
       "<div><style>\n",
       ".dataframe > thead > tr,\n",
       ".dataframe > tbody > tr {\n",
       "  text-align: right;\n",
       "  white-space: pre-wrap;\n",
       "}\n",
       "</style>\n",
       "<small>shape: (113_799, 25)</small><table border=\"1\" class=\"dataframe\"><thead><tr><th>playerID</th><th>yearID</th><th>stint</th><th>teamID</th><th>lgID</th><th>G</th><th>G_batting</th><th>AB</th><th>R</th><th>H</th><th>2B</th><th>3B</th><th>HR</th><th>RBI</th><th>SB</th><th>CS</th><th>BB</th><th>SO</th><th>IBB</th><th>HBP</th><th>SH</th><th>SF</th><th>GIDP</th><th>G_old</th><th>1B</th></tr><tr><td>str</td><td>i64</td><td>i64</td><td>str</td><td>str</td><td>i64</td><td>i64</td><td>i64</td><td>i64</td><td>i64</td><td>i64</td><td>i64</td><td>i64</td><td>i64</td><td>i64</td><td>i64</td><td>i64</td><td>i64</td><td>i64</td><td>i64</td><td>i64</td><td>i64</td><td>i64</td><td>str</td><td>i64</td></tr></thead><tbody><tr><td>&quot;abercda01&quot;</td><td>1871</td><td>1</td><td>&quot;TRO&quot;</td><td>&quot;NA&quot;</td><td>1</td><td>null</td><td>4</td><td>0</td><td>0</td><td>0</td><td>0</td><td>0</td><td>0</td><td>0</td><td>0</td><td>0</td><td>0</td><td>null</td><td>null</td><td>null</td><td>null</td><td>0</td><td>null</td><td>0</td></tr><tr><td>&quot;addybo01&quot;</td><td>1871</td><td>1</td><td>&quot;RC1&quot;</td><td>&quot;NA&quot;</td><td>25</td><td>null</td><td>118</td><td>30</td><td>32</td><td>6</td><td>0</td><td>0</td><td>13</td><td>8</td><td>1</td><td>4</td><td>0</td><td>null</td><td>null</td><td>null</td><td>null</td><td>0</td><td>null</td><td>26</td></tr><tr><td>&quot;allisar01&quot;</td><td>1871</td><td>1</td><td>&quot;CL1&quot;</td><td>&quot;NA&quot;</td><td>29</td><td>null</td><td>137</td><td>28</td><td>40</td><td>4</td><td>5</td><td>0</td><td>19</td><td>3</td><td>1</td><td>2</td><td>5</td><td>null</td><td>null</td><td>null</td><td>null</td><td>1</td><td>null</td><td>31</td></tr><tr><td>&quot;allisdo01&quot;</td><td>1871</td><td>1</td><td>&quot;WS3&quot;</td><td>&quot;NA&quot;</td><td>27</td><td>null</td><td>133</td><td>28</td><td>44</td><td>10</td><td>2</td><td>2</td><td>27</td><td>1</td><td>1</td><td>0</td><td>2</td><td>null</td><td>null</td><td>null</td><td>null</td><td>0</td><td>null</td><td>30</td></tr><tr><td>&quot;ansonca01&quot;</td><td>1871</td><td>1</td><td>&quot;RC1&quot;</td><td>&quot;NA&quot;</td><td>25</td><td>null</td><td>120</td><td>29</td><td>39</td><td>11</td><td>3</td><td>0</td><td>16</td><td>6</td><td>2</td><td>2</td><td>1</td><td>null</td><td>null</td><td>null</td><td>null</td><td>0</td><td>null</td><td>25</td></tr><tr><td>&hellip;</td><td>&hellip;</td><td>&hellip;</td><td>&hellip;</td><td>&hellip;</td><td>&hellip;</td><td>&hellip;</td><td>&hellip;</td><td>&hellip;</td><td>&hellip;</td><td>&hellip;</td><td>&hellip;</td><td>&hellip;</td><td>&hellip;</td><td>&hellip;</td><td>&hellip;</td><td>&hellip;</td><td>&hellip;</td><td>&hellip;</td><td>&hellip;</td><td>&hellip;</td><td>&hellip;</td><td>&hellip;</td><td>&hellip;</td><td>&hellip;</td></tr><tr><td>&quot;zavalse01&quot;</td><td>2023</td><td>2</td><td>&quot;ARI&quot;</td><td>&quot;NL&quot;</td><td>7</td><td>7</td><td>14</td><td>2</td><td>5</td><td>1</td><td>0</td><td>0</td><td>2</td><td>0</td><td>0</td><td>2</td><td>2</td><td>0</td><td>1</td><td>0</td><td>0</td><td>0</td><td>null</td><td>4</td></tr><tr><td>&quot;zerpaan01&quot;</td><td>2023</td><td>1</td><td>&quot;KCA&quot;</td><td>&quot;AL&quot;</td><td>15</td><td>0</td><td>0</td><td>0</td><td>0</td><td>0</td><td>0</td><td>0</td><td>0</td><td>0</td><td>0</td><td>0</td><td>0</td><td>0</td><td>0</td><td>0</td><td>0</td><td>0</td><td>null</td><td>0</td></tr><tr><td>&quot;zimmebr02&quot;</td><td>2023</td><td>1</td><td>&quot;BAL&quot;</td><td>&quot;AL&quot;</td><td>7</td><td>0</td><td>0</td><td>0</td><td>0</td><td>0</td><td>0</td><td>0</td><td>0</td><td>0</td><td>0</td><td>0</td><td>0</td><td>0</td><td>0</td><td>0</td><td>0</td><td>0</td><td>null</td><td>0</td></tr><tr><td>&quot;zuniggu01&quot;</td><td>2023</td><td>1</td><td>&quot;SLN&quot;</td><td>&quot;NL&quot;</td><td>2</td><td>0</td><td>0</td><td>0</td><td>0</td><td>0</td><td>0</td><td>0</td><td>0</td><td>0</td><td>0</td><td>0</td><td>0</td><td>0</td><td>0</td><td>0</td><td>0</td><td>0</td><td>null</td><td>0</td></tr><tr><td>&quot;zuninmi01&quot;</td><td>2023</td><td>1</td><td>&quot;CLE&quot;</td><td>&quot;AL&quot;</td><td>42</td><td>42</td><td>124</td><td>11</td><td>22</td><td>7</td><td>0</td><td>3</td><td>11</td><td>0</td><td>0</td><td>15</td><td>61</td><td>0</td><td>1</td><td>0</td><td>0</td><td>3</td><td>null</td><td>12</td></tr></tbody></table></div>"
      ],
      "text/plain": [
       "shape: (113_799, 25)\n",
       "┌───────────┬────────┬───────┬────────┬───┬──────┬──────┬───────┬─────┐\n",
       "│ playerID  ┆ yearID ┆ stint ┆ teamID ┆ … ┆ SF   ┆ GIDP ┆ G_old ┆ 1B  │\n",
       "│ ---       ┆ ---    ┆ ---   ┆ ---    ┆   ┆ ---  ┆ ---  ┆ ---   ┆ --- │\n",
       "│ str       ┆ i64    ┆ i64   ┆ str    ┆   ┆ i64  ┆ i64  ┆ str   ┆ i64 │\n",
       "╞═══════════╪════════╪═══════╪════════╪═══╪══════╪══════╪═══════╪═════╡\n",
       "│ abercda01 ┆ 1871   ┆ 1     ┆ TRO    ┆ … ┆ null ┆ 0    ┆ null  ┆ 0   │\n",
       "│ addybo01  ┆ 1871   ┆ 1     ┆ RC1    ┆ … ┆ null ┆ 0    ┆ null  ┆ 26  │\n",
       "│ allisar01 ┆ 1871   ┆ 1     ┆ CL1    ┆ … ┆ null ┆ 1    ┆ null  ┆ 31  │\n",
       "│ allisdo01 ┆ 1871   ┆ 1     ┆ WS3    ┆ … ┆ null ┆ 0    ┆ null  ┆ 30  │\n",
       "│ ansonca01 ┆ 1871   ┆ 1     ┆ RC1    ┆ … ┆ null ┆ 0    ┆ null  ┆ 25  │\n",
       "│ …         ┆ …      ┆ …     ┆ …      ┆ … ┆ …    ┆ …    ┆ …     ┆ …   │\n",
       "│ zavalse01 ┆ 2023   ┆ 2     ┆ ARI    ┆ … ┆ 0    ┆ 0    ┆ null  ┆ 4   │\n",
       "│ zerpaan01 ┆ 2023   ┆ 1     ┆ KCA    ┆ … ┆ 0    ┆ 0    ┆ null  ┆ 0   │\n",
       "│ zimmebr02 ┆ 2023   ┆ 1     ┆ BAL    ┆ … ┆ 0    ┆ 0    ┆ null  ┆ 0   │\n",
       "│ zuniggu01 ┆ 2023   ┆ 1     ┆ SLN    ┆ … ┆ 0    ┆ 0    ┆ null  ┆ 0   │\n",
       "│ zuninmi01 ┆ 2023   ┆ 1     ┆ CLE    ┆ … ┆ 0    ┆ 3    ┆ null  ┆ 12  │\n",
       "└───────────┴────────┴───────┴────────┴───┴──────┴──────┴───────┴─────┘"
      ]
     },
     "execution_count": 60,
     "metadata": {},
     "output_type": "execute_result"
    }
   ],
   "source": [
    "df = (\n",
    "    df\n",
    "    .with_columns([(pl.col('H') - pl.col('2B') - pl.col('3B') - pl.col('HR'))\n",
    "                     .alias(\"1B\")])\n",
    "   .sort(pl.col('yearID'))\n",
    "    )\n",
    "\n",
    "df"
   ]
  },
  {
   "cell_type": "code",
   "execution_count": 61,
   "id": "deb00c15-75d2-47f2-90de-d15a72b5453a",
   "metadata": {},
   "outputs": [
    {
     "data": {
      "text/html": [
       "<div><style>\n",
       ".dataframe > thead > tr,\n",
       ".dataframe > tbody > tr {\n",
       "  text-align: right;\n",
       "  white-space: pre-wrap;\n",
       "}\n",
       "</style>\n",
       "<small>shape: (156, 7)</small><table border=\"1\" class=\"dataframe\"><thead><tr><th>lgID</th><th>yearID</th><th>Total_Singles</th><th>Total_Doubles</th><th>Total_Triples</th><th>Total_HomeRuns</th><th>Total_AtBats</th></tr><tr><td>str</td><td>i64</td><td>i64</td><td>i64</td><td>i64</td><td>i64</td><td>i64</td></tr></thead><tbody><tr><td>&quot;AL&quot;</td><td>1997</td><td>14199</td><td>4097</td><td>398</td><td>2477</td><td>78235</td></tr><tr><td>&quot;AL&quot;</td><td>1963</td><td>9654</td><td>2114</td><td>352</td><td>1489</td><td>55011</td></tr><tr><td>&quot;AL&quot;</td><td>2004</td><td>14010</td><td>4232</td><td>404</td><td>2605</td><td>78731</td></tr><tr><td>&quot;NL&quot;</td><td>1996</td><td>13962</td><td>3782</td><td>434</td><td>2220</td><td>77711</td></tr><tr><td>&quot;AL&quot;</td><td>1980</td><td>15072</td><td>3489</td><td>553</td><td>1844</td><td>77888</td></tr><tr><td>&hellip;</td><td>&hellip;</td><td>&hellip;</td><td>&hellip;</td><td>&hellip;</td><td>&hellip;</td><td>&hellip;</td></tr><tr><td>&quot;NL&quot;</td><td>1993</td><td>14370</td><td>3588</td><td>513</td><td>1956</td><td>77489</td></tr><tr><td>&quot;AL&quot;</td><td>1974</td><td>12729</td><td>2564</td><td>400</td><td>1369</td><td>66044</td></tr><tr><td>&quot;NL&quot;</td><td>1984</td><td>12343</td><td>2770</td><td>451</td><td>1278</td><td>65919</td></tr><tr><td>&quot;AL&quot;</td><td>1976</td><td>12643</td><td>2588</td><td>467</td><td>1122</td><td>65711</td></tr><tr><td>&quot;AL&quot;</td><td>1950</td><td>8249</td><td>1829</td><td>423</td><td>973</td><td>42407</td></tr></tbody></table></div>"
      ],
      "text/plain": [
       "shape: (156, 7)\n",
       "┌──────┬────────┬───────────────┬───────────────┬───────────────┬────────────────┬──────────────┐\n",
       "│ lgID ┆ yearID ┆ Total_Singles ┆ Total_Doubles ┆ Total_Triples ┆ Total_HomeRuns ┆ Total_AtBats │\n",
       "│ ---  ┆ ---    ┆ ---           ┆ ---           ┆ ---           ┆ ---            ┆ ---          │\n",
       "│ str  ┆ i64    ┆ i64           ┆ i64           ┆ i64           ┆ i64            ┆ i64          │\n",
       "╞══════╪════════╪═══════════════╪═══════════════╪═══════════════╪════════════════╪══════════════╡\n",
       "│ AL   ┆ 1997   ┆ 14199         ┆ 4097          ┆ 398           ┆ 2477           ┆ 78235        │\n",
       "│ AL   ┆ 1963   ┆ 9654          ┆ 2114          ┆ 352           ┆ 1489           ┆ 55011        │\n",
       "│ AL   ┆ 2004   ┆ 14010         ┆ 4232          ┆ 404           ┆ 2605           ┆ 78731        │\n",
       "│ NL   ┆ 1996   ┆ 13962         ┆ 3782          ┆ 434           ┆ 2220           ┆ 77711        │\n",
       "│ AL   ┆ 1980   ┆ 15072         ┆ 3489          ┆ 553           ┆ 1844           ┆ 77888        │\n",
       "│ …    ┆ …      ┆ …             ┆ …             ┆ …             ┆ …              ┆ …            │\n",
       "│ NL   ┆ 1993   ┆ 14370         ┆ 3588          ┆ 513           ┆ 1956           ┆ 77489        │\n",
       "│ AL   ┆ 1974   ┆ 12729         ┆ 2564          ┆ 400           ┆ 1369           ┆ 66044        │\n",
       "│ NL   ┆ 1984   ┆ 12343         ┆ 2770          ┆ 451           ┆ 1278           ┆ 65919        │\n",
       "│ AL   ┆ 1976   ┆ 12643         ┆ 2588          ┆ 467           ┆ 1122           ┆ 65711        │\n",
       "│ AL   ┆ 1950   ┆ 8249          ┆ 1829          ┆ 423           ┆ 973            ┆ 42407        │\n",
       "└──────┴────────┴───────────────┴───────────────┴───────────────┴────────────────┴──────────────┘"
      ]
     },
     "execution_count": 61,
     "metadata": {},
     "output_type": "execute_result"
    }
   ],
   "source": [
    "df = (\n",
    "    df\n",
    "    .select(['yearID', 'lgID', '1B', '2B', '3B', 'HR', 'AB'])\n",
    "    .filter(pl.col('yearID') > 1945)\n",
    "    .filter((pl.col('lgID') == 'AL') | (pl.col('lgID') == 'NL'))\n",
    "    .group_by(['lgID', 'yearID'])\n",
    "    .agg(pl.col(\"1B\").sum().alias(\"Total_Singles\"), pl.col(\"2B\").sum().alias(\"Total_Doubles\"), pl.col(\"3B\").sum().alias(\"Total_Triples\"), pl.col(\"HR\").sum().alias(\"Total_HomeRuns\"), pl.col(\"AB\").sum().alias(\"Total_AtBats\"))\n",
    ")\n",
    "\n",
    "df"
   ]
  },
  {
   "cell_type": "code",
   "execution_count": 62,
   "id": "0b077bf8-54d7-48e8-abb2-b6a6168ca1b3",
   "metadata": {},
   "outputs": [
    {
     "data": {
      "text/html": [
       "<div><style>\n",
       ".dataframe > thead > tr,\n",
       ".dataframe > tbody > tr {\n",
       "  text-align: right;\n",
       "  white-space: pre-wrap;\n",
       "}\n",
       "</style>\n",
       "<small>shape: (156, 8)</small><table border=\"1\" class=\"dataframe\"><thead><tr><th>lgID</th><th>yearID</th><th>Total_Singles</th><th>Total_Doubles</th><th>Total_Triples</th><th>Total_HomeRuns</th><th>Total_AtBats</th><th>Slugging_Percentage</th></tr><tr><td>str</td><td>i64</td><td>i64</td><td>i64</td><td>i64</td><td>i64</td><td>i64</td><td>f64</td></tr></thead><tbody><tr><td>&quot;NL&quot;</td><td>1946</td><td>8066</td><td>1752</td><td>382</td><td>562</td><td>42094</td><td>0.35549</td></tr><tr><td>&quot;AL&quot;</td><td>1946</td><td>7912</td><td>1827</td><td>401</td><td>653</td><td>42239</td><td>0.364142</td></tr><tr><td>&quot;NL&quot;</td><td>1947</td><td>8126</td><td>1860</td><td>392</td><td>886</td><td>42434</td><td>0.390394</td></tr><tr><td>&quot;AL&quot;</td><td>1947</td><td>7940</td><td>1708</td><td>412</td><td>679</td><td>42002</td><td>0.364459</td></tr><tr><td>&quot;AL&quot;</td><td>1948</td><td>8206</td><td>1846</td><td>450</td><td>710</td><td>42155</td><td>0.381639</td></tr><tr><td>&hellip;</td><td>&hellip;</td><td>&hellip;</td><td>&hellip;</td><td>&hellip;</td><td>&hellip;</td><td>&hellip;</td><td>&hellip;</td></tr><tr><td>&quot;NL&quot;</td><td>2021</td><td>12376</td><td>3907</td><td>354</td><td>2885</td><td>80604</td><td>0.406828</td></tr><tr><td>&quot;NL&quot;</td><td>2022</td><td>12846</td><td>3984</td><td>348</td><td>2658</td><td>81649</td><td>0.397923</td></tr><tr><td>&quot;AL&quot;</td><td>2022</td><td>13031</td><td>3956</td><td>295</td><td>2557</td><td>81816</td><td>0.391806</td></tr><tr><td>&quot;AL&quot;</td><td>2023</td><td>12917</td><td>4130</td><td>342</td><td>2925</td><td>82324</td><td>0.411824</td></tr><tr><td>&quot;NL&quot;</td><td>2023</td><td>13114</td><td>4098</td><td>370</td><td>2943</td><td>82094</td><td>0.416498</td></tr></tbody></table></div>"
      ],
      "text/plain": [
       "shape: (156, 8)\n",
       "┌──────┬────────┬─────────────┬─────────────┬─────────────┬─────────────┬─────────────┬────────────┐\n",
       "│ lgID ┆ yearID ┆ Total_Singl ┆ Total_Doubl ┆ Total_Tripl ┆ Total_HomeR ┆ Total_AtBat ┆ Slugging_P │\n",
       "│ ---  ┆ ---    ┆ es          ┆ es          ┆ es          ┆ uns         ┆ s           ┆ ercentage  │\n",
       "│ str  ┆ i64    ┆ ---         ┆ ---         ┆ ---         ┆ ---         ┆ ---         ┆ ---        │\n",
       "│      ┆        ┆ i64         ┆ i64         ┆ i64         ┆ i64         ┆ i64         ┆ f64        │\n",
       "╞══════╪════════╪═════════════╪═════════════╪═════════════╪═════════════╪═════════════╪════════════╡\n",
       "│ NL   ┆ 1946   ┆ 8066        ┆ 1752        ┆ 382         ┆ 562         ┆ 42094       ┆ 0.35549    │\n",
       "│ AL   ┆ 1946   ┆ 7912        ┆ 1827        ┆ 401         ┆ 653         ┆ 42239       ┆ 0.364142   │\n",
       "│ NL   ┆ 1947   ┆ 8126        ┆ 1860        ┆ 392         ┆ 886         ┆ 42434       ┆ 0.390394   │\n",
       "│ AL   ┆ 1947   ┆ 7940        ┆ 1708        ┆ 412         ┆ 679         ┆ 42002       ┆ 0.364459   │\n",
       "│ AL   ┆ 1948   ┆ 8206        ┆ 1846        ┆ 450         ┆ 710         ┆ 42155       ┆ 0.381639   │\n",
       "│ …    ┆ …      ┆ …           ┆ …           ┆ …           ┆ …           ┆ …           ┆ …          │\n",
       "│ NL   ┆ 2021   ┆ 12376       ┆ 3907        ┆ 354         ┆ 2885        ┆ 80604       ┆ 0.406828   │\n",
       "│ NL   ┆ 2022   ┆ 12846       ┆ 3984        ┆ 348         ┆ 2658        ┆ 81649       ┆ 0.397923   │\n",
       "│ AL   ┆ 2022   ┆ 13031       ┆ 3956        ┆ 295         ┆ 2557        ┆ 81816       ┆ 0.391806   │\n",
       "│ AL   ┆ 2023   ┆ 12917       ┆ 4130        ┆ 342         ┆ 2925        ┆ 82324       ┆ 0.411824   │\n",
       "│ NL   ┆ 2023   ┆ 13114       ┆ 4098        ┆ 370         ┆ 2943        ┆ 82094       ┆ 0.416498   │\n",
       "└──────┴────────┴─────────────┴─────────────┴─────────────┴─────────────┴─────────────┴────────────┘"
      ]
     },
     "execution_count": 62,
     "metadata": {},
     "output_type": "execute_result"
    }
   ],
   "source": [
    "df = (\n",
    "    df\n",
    "    .with_columns([((pl.col(\"Total_Singles\") + (pl.col('Total_Doubles') * 2) + (pl.col('Total_Triples') * 3) + (pl.col('Total_HomeRuns') * 4)) / pl.col('Total_AtBats'))\n",
    "                     .alias(\"Slugging_Percentage\")])\n",
    "   .sort(pl.col('yearID'))\n",
    "    )\n",
    "\n",
    "df"
   ]
  },
  {
   "cell_type": "code",
   "execution_count": 65,
   "id": "e139cb47-ebcd-4584-948f-3eece1a61c25",
   "metadata": {},
   "outputs": [
    {
     "name": "stdout",
     "output_type": "stream",
     "text": [
      "shape: (5, 9)\n",
      "┌──────┬────────┬──────────────┬──────────────┬───┬──────────────┬─────────────┬─────────────┬─────┐\n",
      "│ lgID ┆ yearID ┆ Total_Single ┆ Total_Double ┆ … ┆ Total_HomeRu ┆ Total_AtBat ┆ Slugging_Pe ┆ DH  │\n",
      "│ ---  ┆ ---    ┆ s            ┆ s            ┆   ┆ ns           ┆ s           ┆ rcentage    ┆ --- │\n",
      "│ str  ┆ i64    ┆ ---          ┆ ---          ┆   ┆ ---          ┆ ---         ┆ ---         ┆ str │\n",
      "│      ┆        ┆ i64          ┆ i64          ┆   ┆ i64          ┆ i64         ┆ f64         ┆     │\n",
      "╞══════╪════════╪══════════════╪══════════════╪═══╪══════════════╪═════════════╪═════════════╪═════╡\n",
      "│ NL   ┆ 1946   ┆ 8066         ┆ 1752         ┆ … ┆ 562          ┆ 42094       ┆ 0.35549     ┆ No  │\n",
      "│ AL   ┆ 1946   ┆ 7912         ┆ 1827         ┆ … ┆ 653          ┆ 42239       ┆ 0.364142    ┆ No  │\n",
      "│ NL   ┆ 1947   ┆ 8126         ┆ 1860         ┆ … ┆ 886          ┆ 42434       ┆ 0.390394    ┆ No  │\n",
      "│ AL   ┆ 1947   ┆ 7940         ┆ 1708         ┆ … ┆ 679          ┆ 42002       ┆ 0.364459    ┆ No  │\n",
      "│ AL   ┆ 1948   ┆ 8206         ┆ 1846         ┆ … ┆ 710          ┆ 42155       ┆ 0.381639    ┆ No  │\n",
      "└──────┴────────┴──────────────┴──────────────┴───┴──────────────┴─────────────┴─────────────┴─────┘\n"
     ]
    }
   ],
   "source": [
    "df = (\n",
    "    df.with_columns(\n",
    "        pl\n",
    "        .when((pl.col('lgID') == 'NL') & (pl.col('yearID').is_in(2020) | pl.col('yearID') >= 2022))\n",
    "            .then(pl.lit('Yes'))\n",
    "        .when((pl.col('lgID') == 'AL') & (pl.col('yearID') >= 1973))\n",
    "            .then(pl.lit('Yes'))\n",
    "        .otherwise(pl.lit('No'))\n",
    "        .alias('DH')\n",
    "    )\n",
    ")\n",
    "\n",
    "print(df.head())"
   ]
  },
  {
   "cell_type": "code",
   "execution_count": 64,
   "id": "36a4eaeb-a9c5-4982-a078-110e8b67ebf1",
   "metadata": {},
   "outputs": [],
   "source": [
    "df.write_csv('./Data/Slugging_Data.csv', separator=\",\")"
   ]
  }
 ],
 "metadata": {
  "kernelspec": {
   "display_name": "Python 3 (ipykernel)",
   "language": "python",
   "name": "python3"
  },
  "language_info": {
   "codemirror_mode": {
    "name": "ipython",
    "version": 3
   },
   "file_extension": ".py",
   "mimetype": "text/x-python",
   "name": "python",
   "nbconvert_exporter": "python",
   "pygments_lexer": "ipython3",
   "version": "3.12.5"
  }
 },
 "nbformat": 4,
 "nbformat_minor": 5
}
